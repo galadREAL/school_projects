{
 "cells": [
  {
   "cell_type": "code",
   "execution_count": 1,
   "metadata": {},
   "outputs": [],
   "source": [
    "%matplotlib inline\n",
    "from matplotlib import style\n",
    "style.use('fivethirtyeight')\n",
    "import matplotlib.pyplot as plt"
   ]
  },
  {
   "cell_type": "code",
   "execution_count": 2,
   "metadata": {},
   "outputs": [],
   "source": [
    "import numpy as np\n",
    "import pandas as pd"
   ]
  },
  {
   "cell_type": "code",
   "execution_count": 3,
   "metadata": {},
   "outputs": [],
   "source": [
    "import datetime as dt"
   ]
  },
  {
   "cell_type": "markdown",
   "metadata": {},
   "source": [
    "# Reflect Tables into SQLAlchemy ORM"
   ]
  },
  {
   "cell_type": "code",
   "execution_count": 4,
   "metadata": {},
   "outputs": [],
   "source": [
    "# Python SQL toolkit and Object Relational Mapper\n",
    "import sqlalchemy\n",
    "from sqlalchemy.ext.automap import automap_base\n",
    "from sqlalchemy.orm import Session\n",
    "from sqlalchemy import create_engine, func, inspect"
   ]
  },
  {
   "cell_type": "code",
   "execution_count": 5,
   "metadata": {},
   "outputs": [],
   "source": [
    "engine = create_engine(\"sqlite:///Resources/hawaii.sqlite\")"
   ]
  },
  {
   "cell_type": "code",
   "execution_count": 6,
   "metadata": {},
   "outputs": [],
   "source": [
    "# reflect an existing database into a new model\n",
    "Base = automap_base()\n",
    "# reflect the tables\n",
    "Base.prepare(engine, reflect=True)"
   ]
  },
  {
   "cell_type": "code",
   "execution_count": 7,
   "metadata": {},
   "outputs": [
    {
     "data": {
      "text/plain": [
       "['measurement', 'station']"
      ]
     },
     "execution_count": 7,
     "metadata": {},
     "output_type": "execute_result"
    }
   ],
   "source": [
    "# We can view all of the classes that automap found\n",
    "Base.classes.keys()"
   ]
  },
  {
   "cell_type": "code",
   "execution_count": 8,
   "metadata": {},
   "outputs": [],
   "source": [
    "# Save references to each table\n",
    "Measurement = Base.classes.measurement\n",
    "Station = Base.classes.station"
   ]
  },
  {
   "cell_type": "code",
   "execution_count": 9,
   "metadata": {},
   "outputs": [],
   "source": [
    "# Create our session (link) from Python to the DB\n",
    "session = Session(engine)"
   ]
  },
  {
   "cell_type": "code",
   "execution_count": 10,
   "metadata": {},
   "outputs": [
    {
     "name": "stdout",
     "output_type": "stream",
     "text": [
      "id INTEGER\n",
      "station TEXT\n",
      "date TEXT\n",
      "prcp FLOAT\n",
      "tobs FLOAT\n"
     ]
    }
   ],
   "source": [
    "inspector = inspect(engine)\n",
    "columns = inspector.get_columns('Measurement')\n",
    "for c in columns:\n",
    "    print(c['name'], c['type'])"
   ]
  },
  {
   "cell_type": "code",
   "execution_count": 11,
   "metadata": {},
   "outputs": [
    {
     "name": "stdout",
     "output_type": "stream",
     "text": [
      "id INTEGER\n",
      "station TEXT\n",
      "name TEXT\n",
      "latitude FLOAT\n",
      "longitude FLOAT\n",
      "elevation FLOAT\n"
     ]
    }
   ],
   "source": [
    "inspector = inspect(engine)\n",
    "columns = inspector.get_columns('Station')\n",
    "for c in columns:\n",
    "    print(c['name'], c['type'])"
   ]
  },
  {
   "cell_type": "code",
   "execution_count": 12,
   "metadata": {},
   "outputs": [
    {
     "data": {
      "text/plain": [
       "('2017-08-23')"
      ]
     },
     "execution_count": 12,
     "metadata": {},
     "output_type": "execute_result"
    }
   ],
   "source": [
    "session.query(Measurement.date).order_by(Measurement.date.desc()).first()"
   ]
  },
  {
   "cell_type": "markdown",
   "metadata": {},
   "source": [
    "# Exploratory Climate Analysis"
   ]
  },
  {
   "cell_type": "code",
   "execution_count": 13,
   "metadata": {},
   "outputs": [
    {
     "data": {
      "text/plain": [
       "<matplotlib.axes._subplots.AxesSubplot at 0x11fc7b6d8>"
      ]
     },
     "execution_count": 13,
     "metadata": {},
     "output_type": "execute_result"
    },
    {
     "data": {
      "image/png": "[encoded data removed]",
      "text/plain": [
       "<Figure size 432x288 with 1 Axes>"
      ]
     },
     "metadata": {
      "needs_background": "light"
     },
     "output_type": "display_data"
    }
   ],
   "source": [
    "# Design a query to retrieve the last 12 months of precipitation data and plot the results\n",
    "\n",
    "# Calculate the date 1 year ago from the last data point in the database\n",
    "prevYear = dt.date(2017, 8, 23) - dt.timedelta(days=365)\n",
    "\n",
    "# Perform a query to retrieve the data and precipitation scores\n",
    "results = session.query(Measurement.date, Measurement.prcp).filter(Measurement.date >= prevYear).all()\n",
    "\n",
    "# Save the query results as a Pandas DataFrame and set the index to the date column\n",
    "df = pd.DataFrame(results, columns=['date', 'precipitation'])\n",
    "df.set_index('date', inplace=True)\n",
    "\n",
    "# Sort the dataframe by date\n",
    "df = df.sort_values('date')\n",
    "\n",
    "# Use Pandas Plotting with Matplotlib to plot the data\n",
    "df.plot()"
   ]
  },
  {
   "cell_type": "code",
   "execution_count": 14,
   "metadata": {},
   "outputs": [
    {
     "data": {
      "text/html": [
       "<div>\n",
       "<style scoped>\n",
       "    .dataframe tbody tr th:only-of-type {\n",
       "        vertical-align: middle;\n",
       "    }\n",
       "\n",
       "    .dataframe tbody tr th {\n",
       "        vertical-align: top;\n",
       "    }\n",
       "\n",
       "    .dataframe thead th {\n",
       "        text-align: right;\n",
       "    }\n",
       "</style>\n",
       "<table border=\"1\" class=\"dataframe\">\n",
       "  <thead>\n",
       "    <tr style=\"text-align: right;\">\n",
       "      <th></th>\n",
       "      <th>precipitation</th>\n",
       "    </tr>\n",
       "    <tr>\n",
       "      <th>date</th>\n",
       "      <th></th>\n",
       "    </tr>\n",
       "  </thead>\n",
       "  <tbody>\n",
       "    <tr>\n",
       "      <th>2016-08-23</th>\n",
       "      <td>0.00</td>\n",
       "    </tr>\n",
       "    <tr>\n",
       "      <th>2016-08-23</th>\n",
       "      <td>NaN</td>\n",
       "    </tr>\n",
       "    <tr>\n",
       "      <th>2016-08-23</th>\n",
       "      <td>1.79</td>\n",
       "    </tr>\n",
       "    <tr>\n",
       "      <th>2016-08-23</th>\n",
       "      <td>0.05</td>\n",
       "    </tr>\n",
       "    <tr>\n",
       "      <th>2016-08-23</th>\n",
       "      <td>0.15</td>\n",
       "    </tr>\n",
       "  </tbody>\n",
       "</table>\n",
       "</div>"
      ],
      "text/plain": [
       "            precipitation\n",
       "date                     \n",
       "2016-08-23           0.00\n",
       "2016-08-23            NaN\n",
       "2016-08-23           1.79\n",
       "2016-08-23           0.05\n",
       "2016-08-23           0.15"
      ]
     },
     "execution_count": 14,
     "metadata": {},
     "output_type": "execute_result"
    }
   ],
   "source": [
    "df.head()"
   ]
  },
  {
   "cell_type": "code",
   "execution_count": 15,
   "metadata": {},
   "outputs": [
    {
     "data": {
      "text/plain": [
       "<matplotlib.axes._subplots.AxesSubplot at 0x12005ef60>"
      ]
     },
     "execution_count": 15,
     "metadata": {},
     "output_type": "execute_result"
    },
    {
     "data": {
      "image/png": "[encoded data removed]",
      "text/plain": [
       "<Figure size 432x288 with 1 Axes>"
      ]
     },
     "metadata": {
      "needs_background": "light"
     },
     "output_type": "display_data"
    }
   ],
   "source": [
    "#test_sumRain tests if grouping the sum of rainfall by the date for all stations is a more accurate visualization.\n",
    "test_sumRain = pd.DataFrame(results, columns=['date', 'precipitation'])\n",
    "test_sumRain.dropna(inplace=True)\n",
    "test_sumRain.reset_index(inplace=True)\n",
    "test_sumRain = pd.DataFrame(test_sumRain.groupby(['date']).sum())\n",
    "test_sumRain = test_sumRain.drop(['index'], axis=1)\n",
    "\n",
    "test_sumRain.plot()"
   ]
  },
  {
   "cell_type": "code",
   "execution_count": 16,
   "metadata": {},
   "outputs": [
    {
     "data": {
      "image/png": "[encoded data removed]",
      "text/plain": [
       "<Figure size 432x288 with 1 Axes>"
      ]
     },
     "metadata": {
      "needs_background": "light"
     },
     "output_type": "display_data"
    }
   ],
   "source": [
    "import matplotlib.patheffects as path_effects\n",
    "x = test_sumRain.index\n",
    "y = test_sumRain['precipitation']\n",
    "x_pos = [i for i, _ in enumerate(x)]\n",
    "plt.bar(x_pos, y, color='lightgreen', edgecolor=\"black\", fill=True, hatch='\\\\', tick_label='', width=12, alpha=0.8)\n",
    "plt.xlabel(\"Date\")\n",
    "plt.ylabel(\"Rainfall in Inches\")\n",
    "plt.title(\"Past Year's Precipitation\")\n",
    "plt.show()"
   ]
  },
  {
   "cell_type": "code",
   "execution_count": 17,
   "metadata": {},
   "outputs": [
    {
     "data": {
      "text/plain": [
       "<matplotlib.axes._subplots.AxesSubplot at 0x1208996a0>"
      ]
     },
     "execution_count": 17,
     "metadata": {},
     "output_type": "execute_result"
    },
    {
     "data": {
      "image/png": "[encoded data removed]",
      "text/plain": [
       "<Figure size 432x288 with 1 Axes>"
      ]
     },
     "metadata": {
      "needs_background": "light"
     },
     "output_type": "display_data"
    }
   ],
   "source": [
    "#test_avgRain tests if grouping the average rainfall by the date for all stations is a more accurate visualization.\n",
    "test_avgRain = pd.DataFrame(results, columns=['date', 'precipitation'])\n",
    "test_avgRain.dropna(inplace=True)\n",
    "test_avgRain.reset_index(inplace=True)\n",
    "test_avgRain = pd.DataFrame(test_avgRain.groupby(['date']).mean())\n",
    "test_avgRain = test_avgRain.drop(['index'], axis=1)\n",
    "\n",
    "test_avgRain.plot()"
   ]
  },
  {
   "cell_type": "code",
   "execution_count": 18,
   "metadata": {},
   "outputs": [
    {
     "data": {
      "image/png": "[encoded data removed]",
      "text/plain": [
       "<Figure size 432x288 with 1 Axes>"
      ]
     },
     "metadata": {
      "needs_background": "light"
     },
     "output_type": "display_data"
    }
   ],
   "source": [
    "x = test_avgRain.index\n",
    "y = test_avgRain['precipitation']\n",
    "x_pos = [i for i, _ in enumerate(x)]\n",
    "plt.bar(x_pos, y, color='lightgreen', edgecolor=\"black\", fill=True, hatch='\\\\', tick_label='', width=12, alpha=0.8)\n",
    "plt.xlabel(\"Date\")\n",
    "plt.ylabel(\"Rainfall in Inches\")\n",
    "plt.title(\"Past Year's Precipitation\")\n",
    "plt.show()"
   ]
  },
  {
   "cell_type": "markdown",
   "metadata": {},
   "source": [
    "![precipitation](Images/precipitation.png)"
   ]
  },
  {
   "cell_type": "code",
   "execution_count": 19,
   "metadata": {},
   "outputs": [
    {
     "data": {
      "text/html": [
       "<div>\n",
       "<style scoped>\n",
       "    .dataframe tbody tr th:only-of-type {\n",
       "        vertical-align: middle;\n",
       "    }\n",
       "\n",
       "    .dataframe tbody tr th {\n",
       "        vertical-align: top;\n",
       "    }\n",
       "\n",
       "    .dataframe thead th {\n",
       "        text-align: right;\n",
       "    }\n",
       "</style>\n",
       "<table border=\"1\" class=\"dataframe\">\n",
       "  <thead>\n",
       "    <tr style=\"text-align: right;\">\n",
       "      <th></th>\n",
       "      <th>precipitation</th>\n",
       "    </tr>\n",
       "  </thead>\n",
       "  <tbody>\n",
       "    <tr>\n",
       "      <th>count</th>\n",
       "      <td>2021.000000</td>\n",
       "    </tr>\n",
       "    <tr>\n",
       "      <th>mean</th>\n",
       "      <td>0.177279</td>\n",
       "    </tr>\n",
       "    <tr>\n",
       "      <th>std</th>\n",
       "      <td>0.461190</td>\n",
       "    </tr>\n",
       "    <tr>\n",
       "      <th>min</th>\n",
       "      <td>0.000000</td>\n",
       "    </tr>\n",
       "    <tr>\n",
       "      <th>25%</th>\n",
       "      <td>0.000000</td>\n",
       "    </tr>\n",
       "    <tr>\n",
       "      <th>50%</th>\n",
       "      <td>0.020000</td>\n",
       "    </tr>\n",
       "    <tr>\n",
       "      <th>75%</th>\n",
       "      <td>0.130000</td>\n",
       "    </tr>\n",
       "    <tr>\n",
       "      <th>max</th>\n",
       "      <td>6.700000</td>\n",
       "    </tr>\n",
       "  </tbody>\n",
       "</table>\n",
       "</div>"
      ],
      "text/plain": [
       "       precipitation\n",
       "count    2021.000000\n",
       "mean        0.177279\n",
       "std         0.461190\n",
       "min         0.000000\n",
       "25%         0.000000\n",
       "50%         0.020000\n",
       "75%         0.130000\n",
       "max         6.700000"
      ]
     },
     "execution_count": 19,
     "metadata": {},
     "output_type": "execute_result"
    }
   ],
   "source": [
    "# Use Pandas to calcualte the summary statistics for the precipitation data\n",
    "df.describe()\n",
    "#test_sumRain.describe()\n",
    "#test_avgRain.describe()"
   ]
  },
  {
   "cell_type": "markdown",
   "metadata": {},
   "source": [
    "![describe](Images/describe.png)"
   ]
  },
  {
   "cell_type": "code",
   "execution_count": 20,
   "metadata": {},
   "outputs": [
    {
     "name": "stdout",
     "output_type": "stream",
     "text": [
      "There are 9 unique stations.\n"
     ]
    }
   ],
   "source": [
    "# Design a query to show how many stations are available in this dataset?\n",
    "unqStations = session.query(Station.station).distinct(Station.station).count()\n",
    "print(f\"There are {unqStations} unique stations.\")"
   ]
  },
  {
   "cell_type": "code",
   "execution_count": null,
   "metadata": {},
   "outputs": [],
   "source": []
  },
  {
   "cell_type": "code",
   "execution_count": 21,
   "metadata": {},
   "outputs": [
    {
     "name": "stdout",
     "output_type": "stream",
     "text": [
      "The most active stations are:\n",
      "\n",
      "\n",
      "    [Station]  [Reports]\n"
     ]
    },
    {
     "data": {
      "text/plain": [
       "[('USC00519281', 2772),\n",
       " ('USC00519397', 2724),\n",
       " ('USC00513117', 2709),\n",
       " ('USC00519523', 2669),\n",
       " ('USC00516128', 2612),\n",
       " ('USC00514830', 2202),\n",
       " ('USC00511918', 1979),\n",
       " ('USC00517948', 1372),\n",
       " ('USC00518838', 511)]"
      ]
     },
     "execution_count": 21,
     "metadata": {},
     "output_type": "execute_result"
    }
   ],
   "source": [
    "# What are the most active stations? (i.e. what stations have the most rows)?\n",
    "# List the stations and the counts in descending order.\n",
    "\n",
    "#Direct query:\n",
    "#engine.execute('SELECT station, count(station) FROM Measurement GROUP BY station ORDER BY count(station) DESC').fetchall()\n",
    "\n",
    "#Wrapped query:\n",
    "print(\"The most active stations are:\\n\\n\\n    [Station]  [Reports]\")\n",
    "activeStations = session.query(Measurement.station, func.count(Measurement.station)).group_by(Measurement.station).order_by(func.count(Measurement.station).desc()).all()\n",
    "activeStations"
   ]
  },
  {
   "cell_type": "code",
   "execution_count": 22,
   "metadata": {},
   "outputs": [
    {
     "name": "stdout",
     "output_type": "stream",
     "text": [
      "The weather temp stats for the the most active station (USC00519281) are:\n",
      "\n",
      "\n",
      " [Min.] [Max.]       [Avg.]\n"
     ]
    },
    {
     "data": {
      "text/plain": [
       "[(54.0, 85.0, 71.66378066378067)]"
      ]
     },
     "execution_count": 22,
     "metadata": {},
     "output_type": "execute_result"
    }
   ],
   "source": [
    "# Using the station id from the previous query, calculate the lowest temperature recorded, \n",
    "# highest temperature recorded, and average temperature most active station?\n",
    "\n",
    "\n",
    "topStation = str([station[0] for station in activeStations[:1]])\n",
    "topStation = \"\".join(e for e in topStation if e.isalnum())\n",
    "#print(topStation)\n",
    "\n",
    "\n",
    "#topStationStats = session.query(func.min(Measurement.tobs), func.max(Measurement.tobs), func.avg(Measurement.tobs))\n",
    "print(f\"The weather temp stats for the the most active station ({topStation}) are:\\n\\n\\n [Min.] [Max.]       [Avg.]\")\n",
    "topStationStats = session.query(func.min(Measurement.tobs), func.max(Measurement.tobs), func.avg(Measurement.tobs)).filter_by(station=topStation).all()\n",
    "topStationStats\n"
   ]
  },
  {
   "cell_type": "code",
   "execution_count": 38,
   "metadata": {},
   "outputs": [
    {
     "data": {
      "text/plain": [
       "<matplotlib.axes._subplots.AxesSubplot at 0x1206eb9e8>"
      ]
     },
     "execution_count": 38,
     "metadata": {},
     "output_type": "execute_result"
    },
    {
     "data": {
      "image/png": "[encoded data removed]",
      "text/plain": [
       "<Figure size 432x288 with 1 Axes>"
      ]
     },
     "metadata": {
      "needs_background": "light"
     },
     "output_type": "display_data"
    }
   ],
   "source": [
    "# Choose the station with the highest number of temperature observations.\n",
    "# Query the last 12 months of temperature observation data for this station and plot the results as a histogram\n",
    "\n",
    "#activeTOBS = session.query(Measurement.station, func.count(Measurement.tobs)).group_by(Measurement.station).order_by(func.count(Measurement.tobs).desc()).all()\n",
    "#activeTOBS\n",
    "#If this differed at all we could make a new var like topStation to be known as topTOB for use,\n",
    "#but since no entries are missing let's just use the existing var as it'd be the same.\n",
    "\n",
    "\n",
    "# This is off. I tried each station ID manually without luck\n",
    "topStation12Months = session.query(Measurement.tobs).filter_by(station=topStation).filter(Measurement.date >= prevYear).order_by(Measurement.date.desc()).all()\n",
    "tobs_df = pd.DataFrame(topStation12Months, columns=['tobs'])\n",
    "#tobs_df.set_index('date', inplace=True)\n",
    "#tobs_df = tobs_df.sort_values('date')\n",
    "tobs_df.plot.hist()"
   ]
  },
  {
   "cell_type": "markdown",
   "metadata": {},
   "source": [
    "![precipitation](Images/station-histogram.png)"
   ]
  },
  {
   "cell_type": "code",
   "execution_count": 24,
   "metadata": {},
   "outputs": [
    {
     "name": "stdout",
     "output_type": "stream",
     "text": [
      "[(62.0, 69.57142857142857, 74.0)]\n"
     ]
    }
   ],
   "source": [
    "# This function called `calc_temps` will accept start date and end date in the format '%Y-%m-%d' \n",
    "# and return the minimum, average, and maximum temperatures for that range of dates\n",
    "def calc_temps(start_date, end_date):\n",
    "    \"\"\"TMIN, TAVG, and TMAX for a list of dates.\n",
    "    \n",
    "    Args:\n",
    "        start_date (string): A date string in the format %Y-%m-%d\n",
    "        end_date (string): A date string in the format %Y-%m-%d\n",
    "        \n",
    "    Returns:\n",
    "        TMIN, TAVE, and TMAX\n",
    "    \"\"\"\n",
    "    \n",
    "    return session.query(func.min(Measurement.tobs), func.avg(Measurement.tobs), func.max(Measurement.tobs)).\\\n",
    "        filter(Measurement.date >= start_date).filter(Measurement.date <= end_date).all()\n",
    "\n",
    "# function usage example\n",
    "print(calc_temps('2012-02-28', '2012-03-05'))"
   ]
  },
  {
   "cell_type": "code",
   "execution_count": 25,
   "metadata": {},
   "outputs": [
    {
     "name": "stdout",
     "output_type": "stream",
     "text": [
      "[(61.0, 69.75510204081633, 75.0)]\n"
     ]
    }
   ],
   "source": [
    "# Use your previous function `calc_temps` to calculate the tmin, tavg, and tmax \n",
    "# for your trip using the previous year's data for those same dates.\n",
    "\n",
    "#Are these the correct dates?: 1 year prior to the example above? Don't match the solution\n",
    "print(calc_temps('2011-02-28', '2011-03-05'))\n",
    "\n",
    "#If not, this and everything using this are wrong:\n",
    "priorYearStats = calc_temps('2011-02-28', '2011-03-05')"
   ]
  },
  {
   "cell_type": "code",
   "execution_count": 26,
   "metadata": {},
   "outputs": [
    {
     "name": "stdout",
     "output_type": "stream",
     "text": [
      "Min: 61.0\n",
      "Max: 69.76\n",
      "Avg: 75.0\n"
     ]
    },
    {
     "data": {
      "image/png": "[encoded data removed]",
      "text/plain": [
       "<Figure size 432x288 with 1 Axes>"
      ]
     },
     "metadata": {
      "needs_background": "light"
     },
     "output_type": "display_data"
    }
   ],
   "source": [
    "# Plot the results from your previous query as a bar chart. \n",
    "# Use \"Trip Avg Temp\" as your Title\n",
    "# Use the average temperature for the y value\n",
    "# Use the peak-to-peak (tmax-tmin) value as the y error bar (yerr)\n",
    "\n",
    "\n",
    "vacaMIN = str(np.round([stat[0] for stat in priorYearStats[:1]], 2))\n",
    "vacaMIN = float(\"\".join(e for e in vacaMIN if e in ('.') or e.isalnum()))\n",
    "print(f\"Min: {vacaMIN}\")\n",
    "\n",
    "vacaMAX = str(np.round([stat[1] for stat in priorYearStats[:1]], 2))\n",
    "vacaMAX = float(\"\".join(e for e in vacaMAX if e in ('.') or e.isalnum()))\n",
    "print(f\"Max: {vacaMAX}\")\n",
    "\n",
    "vacaAVG = str(np.round([stat[2] for stat in priorYearStats[:1]], 2))\n",
    "vacaAVG = float(\"\".join(e for e in vacaAVG if e in ('.') or e.isalnum()))\n",
    "print(f\"Avg: {vacaAVG}\")\n",
    "\n",
    "#can't get bar to be skinny like example solution\n",
    "plt.bar([0, 3], [vacaAVG, 0], tick_label='', width=[1.4, 3], yerr=[(vacaMAX - vacaMIN), 0], color='coral', alpha=0.5)\n",
    "plt.title(\"Trip Avg Temp\", loc='left')\n",
    "plt.ylabel(\"Temp (F)\")\n",
    "plt.show()"
   ]
  },
  {
   "cell_type": "code",
   "execution_count": 27,
   "metadata": {},
   "outputs": [
    {
     "data": {
      "text/html": [
       "<div>\n",
       "<style scoped>\n",
       "    .dataframe tbody tr th:only-of-type {\n",
       "        vertical-align: middle;\n",
       "    }\n",
       "\n",
       "    .dataframe tbody tr th {\n",
       "        vertical-align: top;\n",
       "    }\n",
       "\n",
       "    .dataframe thead th {\n",
       "        text-align: right;\n",
       "    }\n",
       "</style>\n",
       "<table border=\"1\" class=\"dataframe\">\n",
       "  <thead>\n",
       "    <tr style=\"text-align: right;\">\n",
       "      <th></th>\n",
       "      <th>total_rainfall</th>\n",
       "      <th>name</th>\n",
       "      <th>latitude</th>\n",
       "      <th>longitude</th>\n",
       "      <th>elevation</th>\n",
       "    </tr>\n",
       "    <tr>\n",
       "      <th>station</th>\n",
       "      <th></th>\n",
       "      <th></th>\n",
       "      <th></th>\n",
       "      <th></th>\n",
       "      <th></th>\n",
       "    </tr>\n",
       "  </thead>\n",
       "  <tbody>\n",
       "    <tr>\n",
       "      <th>USC00518838</th>\n",
       "      <td>2.33</td>\n",
       "      <td>UPPER WAHIAWA 874.3, HI US</td>\n",
       "      <td>21.49920</td>\n",
       "      <td>-158.01110</td>\n",
       "      <td>306.6</td>\n",
       "    </tr>\n",
       "    <tr>\n",
       "      <th>USC00519281</th>\n",
       "      <td>2.23</td>\n",
       "      <td>WAIHEE 837.5, HI US</td>\n",
       "      <td>21.45167</td>\n",
       "      <td>-157.84889</td>\n",
       "      <td>32.9</td>\n",
       "    </tr>\n",
       "    <tr>\n",
       "      <th>USC00519523</th>\n",
       "      <td>2.19</td>\n",
       "      <td>WAIMANALO EXPERIMENTAL FARM, HI US</td>\n",
       "      <td>21.33556</td>\n",
       "      <td>-157.71139</td>\n",
       "      <td>19.5</td>\n",
       "    </tr>\n",
       "    <tr>\n",
       "      <th>USC00514830</th>\n",
       "      <td>1.96</td>\n",
       "      <td>KUALOA RANCH HEADQUARTERS 886.9, HI US</td>\n",
       "      <td>21.52130</td>\n",
       "      <td>-157.83740</td>\n",
       "      <td>7.0</td>\n",
       "    </tr>\n",
       "    <tr>\n",
       "      <th>USC00516128</th>\n",
       "      <td>1.45</td>\n",
       "      <td>MANOA LYON ARBO 785.2, HI US</td>\n",
       "      <td>21.33310</td>\n",
       "      <td>-157.80250</td>\n",
       "      <td>152.4</td>\n",
       "    </tr>\n",
       "    <tr>\n",
       "      <th>USC00513117</th>\n",
       "      <td>1.44</td>\n",
       "      <td>KANEOHE 838.1, HI US</td>\n",
       "      <td>21.42340</td>\n",
       "      <td>-157.80150</td>\n",
       "      <td>14.6</td>\n",
       "    </tr>\n",
       "    <tr>\n",
       "      <th>USC00519397</th>\n",
       "      <td>1.38</td>\n",
       "      <td>WAIKIKI 717.2, HI US</td>\n",
       "      <td>21.27160</td>\n",
       "      <td>-157.81680</td>\n",
       "      <td>3.0</td>\n",
       "    </tr>\n",
       "    <tr>\n",
       "      <th>USC00511918</th>\n",
       "      <td>0.63</td>\n",
       "      <td>HONOLULU OBSERVATORY 702.2, HI US</td>\n",
       "      <td>21.31520</td>\n",
       "      <td>-157.99920</td>\n",
       "      <td>0.9</td>\n",
       "    </tr>\n",
       "    <tr>\n",
       "      <th>USC00517948</th>\n",
       "      <td>NaN</td>\n",
       "      <td>PEARL CITY, HI US</td>\n",
       "      <td>21.39340</td>\n",
       "      <td>-157.97510</td>\n",
       "      <td>11.9</td>\n",
       "    </tr>\n",
       "  </tbody>\n",
       "</table>\n",
       "</div>"
      ],
      "text/plain": [
       "             total_rainfall                                    name  latitude  \\\n",
       "station                                                                         \n",
       "USC00518838            2.33              UPPER WAHIAWA 874.3, HI US  21.49920   \n",
       "USC00519281            2.23                     WAIHEE 837.5, HI US  21.45167   \n",
       "USC00519523            2.19      WAIMANALO EXPERIMENTAL FARM, HI US  21.33556   \n",
       "USC00514830            1.96  KUALOA RANCH HEADQUARTERS 886.9, HI US  21.52130   \n",
       "USC00516128            1.45            MANOA LYON ARBO 785.2, HI US  21.33310   \n",
       "USC00513117            1.44                    KANEOHE 838.1, HI US  21.42340   \n",
       "USC00519397            1.38                    WAIKIKI 717.2, HI US  21.27160   \n",
       "USC00511918            0.63       HONOLULU OBSERVATORY 702.2, HI US  21.31520   \n",
       "USC00517948             NaN                       PEARL CITY, HI US  21.39340   \n",
       "\n",
       "             longitude  elevation  \n",
       "station                            \n",
       "USC00518838 -158.01110      306.6  \n",
       "USC00519281 -157.84889       32.9  \n",
       "USC00519523 -157.71139       19.5  \n",
       "USC00514830 -157.83740        7.0  \n",
       "USC00516128 -157.80250      152.4  \n",
       "USC00513117 -157.80150       14.6  \n",
       "USC00519397 -157.81680        3.0  \n",
       "USC00511918 -157.99920        0.9  \n",
       "USC00517948 -157.97510       11.9  "
      ]
     },
     "execution_count": 27,
     "metadata": {},
     "output_type": "execute_result"
    }
   ],
   "source": [
    "# Calculate the total amount of rainfall per weather station for your trip dates using the previous year's matching dates.\n",
    "# Sort this in descending order by precipitation amount and list the station, name, latitude, longitude, and elevation\n",
    "\n",
    "def calc_rain(start_date, end_date):\n",
    "    return session.query(Measurement.station, func.sum(Measurement.prcp)).\\\n",
    "        filter(Measurement.date >= start_date).filter(Measurement.date <= end_date).\\\n",
    "            group_by(Measurement.station).\\\n",
    "                order_by(func.sum(Measurement.prcp).\\\n",
    "                         desc()).\\\n",
    "                            all()\n",
    "\n",
    "priorYearRain = calc_rain('2011-02-28', '2011-03-05')\n",
    "rainDF = pd.DataFrame(priorYearRain, columns=['station', 'total_rainfall'])\n",
    "#rainDF\n",
    "\n",
    "def calc_stations(singleStation):\n",
    "    return session.query(Station.station, Station.name, Station.latitude, Station.longitude, Station.elevation).\\\n",
    "        filter(Station.station == singleStation).first()\n",
    "\n",
    "rain_station_list = []\n",
    "for singleStation in rainDF['station']:\n",
    "    singleInfo = calc_stations(singleStation)\n",
    "    rain_station_list.append(singleInfo)\n",
    "    \n",
    "stationDF = pd.DataFrame(rain_station_list)\n",
    "\n",
    "RainfallSum_DF = pd.merge(rainDF, stationDF, on='station', how='left')\n",
    "RainfallSum_DF.set_index('station', inplace=True)\n",
    "RainfallSum_DF"
   ]
  },
  {
   "cell_type": "code",
   "execution_count": null,
   "metadata": {},
   "outputs": [],
   "source": []
  },
  {
   "cell_type": "code",
   "execution_count": null,
   "metadata": {},
   "outputs": [],
   "source": []
  },
  {
   "cell_type": "markdown",
   "metadata": {},
   "source": [
    "## Optional Challenge Assignment"
   ]
  },
  {
   "cell_type": "code",
   "execution_count": 28,
   "metadata": {},
   "outputs": [
    {
     "data": {
      "text/plain": [
       "[(62.0, 69.15384615384616, 77.0)]"
      ]
     },
     "execution_count": 28,
     "metadata": {},
     "output_type": "execute_result"
    }
   ],
   "source": [
    "# Create a query that will calculate the daily normals \n",
    "# (i.e. the averages for tmin, tmax, and tavg for all historic data matching a specific month and day)\n",
    "\n",
    "def daily_normals(date):\n",
    "    \"\"\"Daily Normals.\n",
    "    \n",
    "    Args:\n",
    "        date (str): A date string in the format '%m-%d'\n",
    "        \n",
    "    Returns:\n",
    "        A list of tuples containing the daily normals, tmin, tavg, and tmax\n",
    "    \n",
    "    \"\"\"\n",
    "    \n",
    "    sel = [func.min(Measurement.tobs), func.avg(Measurement.tobs), func.max(Measurement.tobs)]\n",
    "    return session.query(*sel).filter(func.strftime(\"%m-%d\", Measurement.date) == date).all()\n",
    "    \n",
    "daily_normals(\"01-01\")"
   ]
  },
  {
   "cell_type": "code",
   "execution_count": 29,
   "metadata": {},
   "outputs": [],
   "source": [
    "# calculate the daily normals for your trip\n",
    "# push each tuple of calculations into a list called `normals`\n",
    "vaca_dates = []\n",
    "normals = []\n",
    "\n",
    "# Set the start and end date of the trip\n",
    "from datetime import datetime\n",
    "\n",
    "start_dt = datetime.strptime('2012-02-28', '%Y-%m-%d')\n",
    "end_dt = datetime.strptime('2012-03-05', '%Y-%m-%d')\n",
    "\n",
    "# Use the start and end date to create a range of dates\n",
    "import datetime\n",
    "\n",
    "trip_dates = [start_dt + datetime.timedelta(days=x) for x in range(0, (end_dt-start_dt).days)]\n",
    "\n",
    "# Stip off the year and save a list of %m-%d strings\n",
    "    \n",
    "for date in trip_dates:\n",
    "    each = date.strftime(\"%m-%d\")\n",
    "    vaca_dates.append(each)\n",
    "\n",
    "# Loop through the list of %m-%d strings and calculate the normals for each date\n",
    "for date in vaca_dates:\n",
    "    #normal = date, daily_normals(date)\n",
    "    normal = daily_normals(date)\n",
    "    normals.append(normal)\n",
    "#normals"
   ]
  },
  {
   "cell_type": "code",
   "execution_count": 30,
   "metadata": {},
   "outputs": [],
   "source": [
    "tuple_MINS = []\n",
    "tuple_MAXS = []\n",
    "tuple_AVGS = []\n",
    "\n",
    "def calc_tuple_stats(normals):\n",
    "    i = 0\n",
    "    for each in normals:\n",
    "        tuple_raw = str(np.round([normal[0] for normal in normals[i:]], 0))\n",
    "        tuple_raw = \"\".join(e for e in tuple_raw if e in ('.') or e.isalnum())\n",
    "        tuple_MINS.append(float(tuple_raw[:2]))\n",
    "        tuple_MAXS.append(float(tuple_raw[3:5]))\n",
    "        tuple_AVGS.append(float(tuple_raw[6:8]))\n",
    "        i = i + 1\n",
    "        \n",
    "calc_tuple_stats(normals)"
   ]
  },
  {
   "cell_type": "code",
   "execution_count": 31,
   "metadata": {},
   "outputs": [
    {
     "data": {
      "text/html": [
       "<div>\n",
       "<style scoped>\n",
       "    .dataframe tbody tr th:only-of-type {\n",
       "        vertical-align: middle;\n",
       "    }\n",
       "\n",
       "    .dataframe tbody tr th {\n",
       "        vertical-align: top;\n",
       "    }\n",
       "\n",
       "    .dataframe thead th {\n",
       "        text-align: right;\n",
       "    }\n",
       "</style>\n",
       "<table border=\"1\" class=\"dataframe\">\n",
       "  <thead>\n",
       "    <tr style=\"text-align: right;\">\n",
       "      <th></th>\n",
       "      <th>MIN_Temp</th>\n",
       "      <th>MAX_Temp</th>\n",
       "      <th>AVG_Temp</th>\n",
       "    </tr>\n",
       "    <tr>\n",
       "      <th>Date</th>\n",
       "      <th></th>\n",
       "      <th></th>\n",
       "      <th></th>\n",
       "    </tr>\n",
       "  </thead>\n",
       "  <tbody>\n",
       "    <tr>\n",
       "      <th>02-28</th>\n",
       "      <td>65.0</td>\n",
       "      <td>71.0</td>\n",
       "      <td>80.0</td>\n",
       "    </tr>\n",
       "    <tr>\n",
       "      <th>02-29</th>\n",
       "      <td>67.0</td>\n",
       "      <td>72.0</td>\n",
       "      <td>79.0</td>\n",
       "    </tr>\n",
       "    <tr>\n",
       "      <th>03-01</th>\n",
       "      <td>64.0</td>\n",
       "      <td>70.0</td>\n",
       "      <td>76.0</td>\n",
       "    </tr>\n",
       "    <tr>\n",
       "      <th>03-02</th>\n",
       "      <td>61.0</td>\n",
       "      <td>70.0</td>\n",
       "      <td>78.0</td>\n",
       "    </tr>\n",
       "    <tr>\n",
       "      <th>03-03</th>\n",
       "      <td>60.0</td>\n",
       "      <td>70.0</td>\n",
       "      <td>78.0</td>\n",
       "    </tr>\n",
       "    <tr>\n",
       "      <th>03-04</th>\n",
       "      <td>57.0</td>\n",
       "      <td>69.0</td>\n",
       "      <td>77.0</td>\n",
       "    </tr>\n",
       "  </tbody>\n",
       "</table>\n",
       "</div>"
      ],
      "text/plain": [
       "       MIN_Temp  MAX_Temp  AVG_Temp\n",
       "Date                               \n",
       "02-28      65.0      71.0      80.0\n",
       "02-29      67.0      72.0      79.0\n",
       "03-01      64.0      70.0      76.0\n",
       "03-02      61.0      70.0      78.0\n",
       "03-03      60.0      70.0      78.0\n",
       "03-04      57.0      69.0      77.0"
      ]
     },
     "execution_count": 31,
     "metadata": {},
     "output_type": "execute_result"
    }
   ],
   "source": [
    "# Load the previous query results into a Pandas DataFrame and add the `trip_dates` range as the `date` index\n",
    "normalsDF = pd.DataFrame()\n",
    "normalsDF.insert(0, \"AVG_Temp\", tuple_AVGS)\n",
    "normalsDF.insert(0, \"MAX_Temp\", tuple_MAXS)\n",
    "normalsDF.insert(0, \"MIN_Temp\", tuple_MINS)\n",
    "normalsDF.insert(0, \"Date\", vaca_dates)\n",
    "normalsDF.set_index('Date', inplace=True)\n",
    "normalsDF"
   ]
  },
  {
   "cell_type": "code",
   "execution_count": 32,
   "metadata": {},
   "outputs": [
    {
     "data": {
      "text/plain": [
       "<matplotlib.axes._subplots.AxesSubplot at 0x1210ed978>"
      ]
     },
     "execution_count": 32,
     "metadata": {},
     "output_type": "execute_result"
    },
    {
     "data": {
      "image/png": "[encoded data removed]",
      "text/plain": [
       "<Figure size 432x288 with 1 Axes>"
      ]
     },
     "metadata": {
      "needs_background": "light"
     },
     "output_type": "display_data"
    }
   ],
   "source": [
    "# Plot the daily normals as an area plot with `stacked=False`\n",
    "normalsDF.plot.area(stacked=False, alpha=0.3)"
   ]
  },
  {
   "cell_type": "code",
   "execution_count": 33,
   "metadata": {},
   "outputs": [],
   "source": [
    "# Step 2 - Climate App with Flask"
   ]
  },
  {
   "cell_type": "code",
   "execution_count": 34,
   "metadata": {},
   "outputs": [
    {
     "ename": "SyntaxError",
     "evalue": "invalid syntax (<ipython-input-34-82ba93ad74d4>, line 2)",
     "output_type": "error",
     "traceback": [
      "\u001b[0;36m  File \u001b[0;32m\"<ipython-input-34-82ba93ad74d4>\"\u001b[0;36m, line \u001b[0;32m2\u001b[0m\n\u001b[0;31m    <!DOCTYPE html>\u001b[0m\n\u001b[0m    ^\u001b[0m\n\u001b[0;31mSyntaxError\u001b[0m\u001b[0;31m:\u001b[0m invalid syntax\n"
     ]
    }
   ],
   "source": [
    "#index.html\n",
    "<!DOCTYPE html>\n",
    "<html lang=\"en\">\n",
    "\n",
    "<head>\n",
    "  <meta charset=\"UTF-8\">\n",
    "  <meta name=\"viewport\" content=\"width=device-width, initial-scale=1.0\">\n",
    "  <meta http-equiv=\"X-UA-Compatible\" content=\"ie=edge\">\n",
    "  <title>Document</title>\n",
    "</head>\n",
    "\n",
    "<body>\n",
    "  <section>\n",
    "    <h1>API Index</h1>\n",
    "    <hr>\n",
    "    <br>\n",
    "    <ul>\n",
    "      <li><a href=\"/api/v1.0/precipitation\">Precipitation Data</a></li>\n",
    "      <li><a href=\"/api/v1.0/stations\">Stations Data</a></li>\n",
    "      <li><a href=\"/api/v1.0/tobs\">Temperature Data (TOBS)</a> </li>\n",
    "      <li><a href=\"/api/v1.0/<start>\">Weather Data by Starting Date</a></li>\n",
    "      <li><a href=\"/api/v1.0/<start>/<end>\">Weather Data by Range of Dates</a></li>\n",
    "    </ul>\n",
    "    <br>\n",
    "    <h3>API Operations GUI</h3>\n",
    "    <hr>\n",
    "    <br>\n",
    "    <ul>\n",
    "      <li><a href=\"/search\">Search Weather by Date(s)</a> </li>\n",
    "    </ul>\n",
    "    <br>\n",
    "  </section>\n",
    "</body>\n",
    "\n",
    "</html>"
   ]
  },
  {
   "cell_type": "code",
   "execution_count": null,
   "metadata": {},
   "outputs": [],
   "source": [
    "#datesearch.html\n",
    "<!DOCTYPE html>\n",
    "<html lang=\"en\">\n",
    "\n",
    "<head>\n",
    "  <meta charset=\"UTF-8\">\n",
    "  <meta name=\"viewport\" content=\"width=device-width, initial-scale=1.0\">\n",
    "  <meta http-equiv=\"X-UA-Compatible\" content=\"ie=edge\">\n",
    "  <title>Search by Date Range</title>\n",
    "</head>\n",
    "\n",
    "<body>\n",
    "  <h1>Data By Date Range</h1>\n",
    "  <hr/>\n",
    "  {% if error %}\n",
    "  <h2>Errors Encountered</h2>\n",
    "  <p>{{ error }}</p>\n",
    "  <hr/>\n",
    "  {% endif %}\n",
    "  {% if results %}\n",
    "  <h2>Results</h2>\n",
    "    <table>\n",
    "      <tr>\n",
    "        <th>min_temp</th>\n",
    "        <th>avg_temp</th>\n",
    "        <th>max_temp</th>\n",
    "      </tr>\n",
    "    {% for item in results %}\n",
    "      <tr>\n",
    "        <td>{{ item['min_temp'] }}</td>\n",
    "        <td>{{ item['avg_temp'] }}</td>\n",
    "        <td>{{ item['max_temp'] }}</td>\n",
    "      </tr>\n",
    "    {% endfor %}\n",
    "    </table>\n",
    "  <hr/>\n",
    "  {% endif %}\n",
    "  <h2>Search Weather by Custom Date(s)</h2>\n",
    "  <form action=\"/search\" method=\"POST\">\n",
    "    <div><label for=\"start_date\">Starting Date:</label><input type=\"date\" id=\"start_date\" name=\"start_date\"></div>\n",
    "    <div><label for=\"end_date\">Ending Date:</label><input type=\"date\" id=\"end_date\" name=\"end_date\", value=\"2017-08-23\"></div>\n",
    "    <div class=\"button\"><button type=\"submit\">Search Range</button></div>\n",
    "  </form>\n",
    "\n",
    "</body>\n",
    "\n",
    "</html>\n",
    "\n"
   ]
  },
  {
   "cell_type": "code",
   "execution_count": null,
   "metadata": {},
   "outputs": [],
   "source": [
    "#api_app.py\n",
    "\n",
    "from flask import Flask, jsonify, redirect, url_for, render_template, request, flash, escape\n",
    "import datetime as dt\n",
    "import sqlalchemy\n",
    "from sqlalchemy.ext.automap import automap_base\n",
    "from sqlalchemy.orm import Session\n",
    "from sqlalchemy import create_engine, func, inspect\n",
    "import datetime\n",
    "import time\n",
    "\n",
    "import colors\n",
    "from flask import g, request\n",
    "from rfc3339 import rfc3339\n",
    "\n",
    "engine = create_engine(\"sqlite:///Resources/hawaii.sqlite\")\n",
    "Base = automap_base()\n",
    "Base.prepare(engine, reflect=True)\n",
    "Measurement = Base.classes.measurement\n",
    "Station = Base.classes.station\n",
    "session = Session(engine)\n",
    "\n",
    "app = Flask(__name__)\n",
    "prevYear = dt.date(2017, 8, 23) - dt.timedelta(days=365)\n",
    "\n",
    "\n",
    "# Define what to do when a user hits the index route\n",
    "@app.route(\"/\", methods=['GET'])\n",
    "def home():\n",
    "    return redirect(url_for('static', filename='index.html'))\n",
    "\n",
    "\n",
    "@app.route(\"/api/v1.0/precipitation\")\n",
    "def precip():\n",
    "    # Build the query.\n",
    "    prevYear = dt.date(2017, 8, 23) - dt.timedelta(days=365)\n",
    "    precip_results = session.query(Measurement.date, Measurement.prcp).filter(\n",
    "        Measurement.date >= prevYear).all()\n",
    "\n",
    "    # Convert the query results to a Dictionary using date as the key and prcp as the value.\n",
    "    all_precip_stats = []\n",
    "    for date, precipitation in precip_results:\n",
    "        precip_dict = {}\n",
    "        precip_dict[\"date\"] = date\n",
    "        precip_dict[\"precipitation\"] = precipitation\n",
    "        all_precip_stats.append(precip_dict)\n",
    "\n",
    "    # Return the JSON representation of your dictionary.\n",
    "    return jsonify(all_precip_stats)\n",
    "\n",
    "\n",
    "@app.route(\"/api/v1.0/stations\")\n",
    "def stations():\n",
    "    # Build the query.\n",
    "    station_results = session.query(\n",
    "        Measurement.station, func.count(Measurement.station)).group_by(\n",
    "            Measurement.station).order_by(\n",
    "                func.count(Measurement.station).desc()).all()\n",
    "\n",
    "    # Convert the query results to a Dictionary.\n",
    "    all_station_stats = []\n",
    "    for station, reports in station_results:\n",
    "        station_dict = {}\n",
    "        station_dict['station'] = station\n",
    "        station_dict['reports'] = reports\n",
    "        all_station_stats.append(station_dict)\n",
    "\n",
    "    # Return a JSON list of stations from the dataset.\n",
    "    return jsonify(all_station_stats)\n",
    "\n",
    "\n",
    "@app.route(\"/api/v1.0/tobs\")\n",
    "def tobs():\n",
    "    activeStations = session.query(\n",
    "        Measurement.station, func.count(Measurement.station)).group_by(\n",
    "            Measurement.station).order_by(func.count(Measurement.station).desc()).all()\n",
    "    topStation = str([station[0] for station in activeStations[:1]])\n",
    "    topStation = \"\".join(e for e in topStation if e.isalnum())\n",
    "    # Build the query for the dates and temperature observations from a year from the last data point.\n",
    "    tobs_results = session.query(Measurement.date, Measurement.tobs).\\\n",
    "        filter_by(station=topStation).filter(\n",
    "            Measurement.date >= prevYear).all()\n",
    "\n",
    "    # Convert the query results to a Dictionary.\n",
    "    all_tobs_stats = []\n",
    "    for date, tobs in tobs_results:\n",
    "        tobs_dict = {}\n",
    "        tobs_dict['date'] = date\n",
    "        tobs_dict['tobs'] = tobs\n",
    "        all_tobs_stats.append(tobs_dict)\n",
    "\n",
    "    # Return a JSON list of Temperature Observations (tobs) for the previous year.\n",
    "    return jsonify(all_tobs_stats)\n",
    "\n",
    "\n",
    "# ---------------------------------------------------\n",
    "app.secret_key = 'testestest'\n",
    "\n",
    "\n",
    "@app.route('/search', methods=['GET'])\n",
    "def render_search():\n",
    "    return render_template('datesearch.html')\n",
    "\n",
    "\n",
    "@app.route(\"/search\", methods=['POST'])\n",
    "def form():\n",
    "    app.logger.info('form(): %s', request)\n",
    "    try:\n",
    "        if request.method == \"POST\":\n",
    "            results = start_end(request.form['start_date'],\n",
    "                                request.form['end_date'])\n",
    "            return render_template('datesearch.html', results=results)\n",
    "\n",
    "        return render_template('datesearch.html')\n",
    "    except Exception as e:\n",
    "        app.logger.error('error: %s', e)\n",
    "        return render_template('datesearch.html', error=e)\n",
    "\n",
    "\n",
    "@app.route(\"/api/v1.0/<start>/<end>\")\n",
    "def method_name():\n",
    "    pass\n",
    "\n",
    "\n",
    "def start_end(start_date, end_date):\n",
    "    app.logger.info('start_end(): %s', request)\n",
    "\n",
    "    def calc_temps_se(start_date, end_date):\n",
    "        return session.query(func.min(Measurement.tobs), func.avg(Measurement.tobs), func.max(Measurement.tobs)).\\\n",
    "            filter(Measurement.date >= start_date).filter(\n",
    "                Measurement.date <= end_date).all()\n",
    "\n",
    "    # Build the query.\n",
    "    se_results = calc_temps_se(start_date, end_date)\n",
    "    # Convert the query results to a Dictionary.\n",
    "    all_se_stats = []\n",
    "    for se_min, se_avg, se_max in se_results:\n",
    "        se_dict = {}\n",
    "        se_dict['min_temp'] = se_min\n",
    "        se_dict['avg_temp'] = se_avg\n",
    "        se_dict['max_temp'] = se_max\n",
    "        all_se_stats.append(se_dict)\n",
    "\n",
    "    return all_se_stats\n",
    "\n",
    "\n",
    "@app.route(\"/api/v1.0/<start>\")\n",
    "def start_only(start_date):\n",
    "    def calc_temps_s(start_date):\n",
    "        return session.query(func.min(Measurement.tobs), func.avg(Measurement.tobs), func.max(Measurement.tobs)).filter(Measurement.date >= start_date).all()\n",
    "    # Build the query.\n",
    "    s_results = calc_temps_s(start_date)\n",
    "    # Convert the query results to a Dictionary.\n",
    "    all_s_stats = []\n",
    "    for s_min, s_avg, s_max in s_results:\n",
    "        s_dict = {}\n",
    "        s_dict['min_temp'] = s_min\n",
    "        s_dict['avg_temp'] = s_avg\n",
    "        s_dict['max_temp'] = s_max\n",
    "        all_s_stats.append(s_dict)\n",
    "    # Return a JSON list of the minimum temperature, the average temperature, and the max temperature for a given start or start-end range.\n",
    "    return jsonify(all_s_stats)\n",
    "\n",
    "#*#*#*#*#*#*#*#*#*#*#*#*#*#*#*#*#*#*#*#*#*#*#*#*#*#*#*#*#*#*#*#*#*#*#*#*#*#*#*#*#*#\n",
    "# debugging stuff\n",
    "@app.before_request\n",
    "def start_timer():\n",
    "    g.start = time.time()\n",
    "\n",
    "\n",
    "@app.after_request\n",
    "def log_request(response):\n",
    "    if request.path == '/favicon.ico':\n",
    "        return response\n",
    "    elif request.path.startswith('/static'):\n",
    "        return response\n",
    "\n",
    "    now = time.time()\n",
    "    duration = round(now - g.start, 2)\n",
    "    dt = datetime.datetime.fromtimestamp(now)\n",
    "    timestamp = rfc3339(dt, utc=True)\n",
    "\n",
    "    ip = request.headers.get('X-Forwarded-For', request.remote_addr)\n",
    "    host = request.host.split(':', 1)[0]\n",
    "    args = dict(request.args)\n",
    "\n",
    "    log_params = [('method', request.method, 'blue'),\n",
    "                  ('path', request.path, 'blue'),\n",
    "                  ('status', response.status_code, 'yellow'),\n",
    "                  ('duration', duration, 'green'),\n",
    "                  ('time', timestamp, 'magenta'), ('ip', ip, 'red'),\n",
    "                  ('host', host, 'red'), ('params', args, 'blue')]\n",
    "\n",
    "    request_id = request.headers.get('X-Request-ID')\n",
    "    if request_id:\n",
    "        log_params.append(('request_id', request_id, 'yellow'))\n",
    "\n",
    "    parts = []\n",
    "    for name, value, color in log_params:\n",
    "        part = colors.color(\"{}={}\".format(name, value), fg=color)\n",
    "        parts.append(part)\n",
    "    line = \" \".join(parts)\n",
    "\n",
    "    app.logger.info(line)\n",
    "\n",
    "    return response\n",
    "\n",
    "\n",
    "if __name__ == \"__main__\":\n",
    "    app.run(debug=True)\n"
   ]
  }
 ],
 "metadata": {
  "kernel_info": {
   "name": "python3"
  },
  "kernelspec": {
   "display_name": "Python 3",
   "language": "python",
   "name": "python3"
  },
  "language_info": {
   "codemirror_mode": {
    "name": "ipython",
    "version": 3
   },
   "file_extension": ".py",
   "mimetype": "text/x-python",
   "name": "python",
   "nbconvert_exporter": "python",
   "pygments_lexer": "ipython3",
   "version": "3.7.1"
  },
  "nteract": {
   "version": "0.12.3"
  },
  "varInspector": {
   "cols": {
    "lenName": 16,
    "lenType": 16,
    "lenVar": 40
   },
   "kernels_config": {
    "python": {
     "delete_cmd_postfix": "",
     "delete_cmd_prefix": "del ",
     "library": "var_list.py",
     "varRefreshCmd": "print(var_dic_list())"
    },
    "r": {
     "delete_cmd_postfix": ") ",
     "delete_cmd_prefix": "rm(",
     "library": "var_list.r",
     "varRefreshCmd": "cat(var_dic_list()) "
    }
   },
   "types_to_exclude": [
    "module",
    "function",
    "builtin_function_or_method",
    "instance",
    "_Feature"
   ],
   "window_display": false
  }
 },
 "nbformat": 4,
 "nbformat_minor": 2
}
