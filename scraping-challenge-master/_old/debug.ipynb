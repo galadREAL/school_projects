{
 "cells": [
  {
   "cell_type": "code",
   "execution_count": 1,
   "metadata": {},
   "outputs": [],
   "source": [
    "#*#*#*#*#*#*#*#*#*#*#*#*#*#*#*#*#*#*#*#*#*#*#*#*#*#*#*#*#*#*#*#*#*#*#*#*#*#*#*#*#*#*#*#*#*#*#*#*#*#\n",
    "# * Dependencies\n",
    "#*#*#*#*#*#*#*#*#*#*#*#*#*#*#*#*#*#*#*#*#*#*#*#*#*#*#*#*#*#*#*#*#*#*#*#*#*#*#*#*#*#*#*#*#*#*#*#*#*#\n",
    "import pandas as pd\n",
    "from splinter import Browser\n",
    "from bs4 import BeautifulSoup as bs\n",
    "import time"
   ]
  },
  {
   "cell_type": "code",
   "execution_count": 2,
   "metadata": {},
   "outputs": [],
   "source": [
    "#*#*#*#*#*#*#*#*#*#*#*#*#*#*#*#*#*#*#*#*#*#*#*#*#*#*#*#*#*#*#*#*#*#*#*#*#*#*#*#*#*#*#*#*#*#*#*#*#*#\n",
    "# * Browser Setup\n",
    "#*#*#*#*#*#*#*#*#*#*#*#*#*#*#*#*#*#*#*#*#*#*#*#*#*#*#*#*#*#*#*#*#*#*#*#*#*#*#*#*#*#*#*#*#*#*#*#*#*#\n",
    "# Links up chrome to this notebook\n",
    "executable_path = {'executable_path': '/usr/local/bin/chromedriver'}\n",
    "browser = Browser('chrome', **executable_path, headless=False)"
   ]
  },
  {
   "cell_type": "code",
   "execution_count": 3,
   "metadata": {},
   "outputs": [
    {
     "name": "stdout",
     "output_type": "stream",
     "text": [
      "Fetching Latest News...\n",
      "\n"
     ]
    }
   ],
   "source": [
    "#*#*#*#*#*#*#*#*#*#*#*#*#*#*#*#*#*#*#*#*#*#*#*#*#*#*#*#*#*#*#*#*#*#*#*#*#*#*#*#*#*#*#*#*#*#*#*#*#*#\n",
    "# * Scraping: NASA Mars News\n",
    "#*#*#*#*#*#*#*#*#*#*#*#*#*#*#*#*#*#*#*#*#*#*#*#*#*#*#*#*#*#*#*#*#*#*#*#*#*#*#*#*#*#*#*#*#*#*#*#*#*#\n",
    "# Provided url is assigned and a browser is sent to visit the page\n",
    "url = 'https://mars.nasa.gov/news/'\n",
    "print('Fetching Latest News...\\n')\n",
    "browser.visit(url)\n",
    "time.sleep(2)\n",
    "\n",
    "# Stick the url's html into a soup object to parse\n",
    "html = browser.html\n",
    "soup = bs(html, 'html.parser')\n",
    "\n",
    "# Gather up all the content_title and assign the [0] position one to latest_title\n",
    "titles = soup.find_all('div', class_='content_title')\n",
    "latest_title = titles[0].text\n",
    "\n",
    "# Gather up all the article_teaser_body and assign the [0] position one to latest_paragraph\n",
    "paragraphs = soup.find_all('div', class_='article_teaser_body')\n",
    "latest_paragraph = paragraphs[0].text"
   ]
  },
  {
   "cell_type": "code",
   "execution_count": 4,
   "metadata": {},
   "outputs": [
    {
     "name": "stdout",
     "output_type": "stream",
     "text": [
      "Fetching Latest Featured Image...\n",
      "\n"
     ]
    }
   ],
   "source": [
    "#*#*#*#*#*#*#*#*#*#*#*#*#*#*#*#*#*#*#*#*#*#*#*#*#*#*#*#*#*#*#*#*#*#*#*#*#*#*#*#*#*#*#*#*#*#*#*#*#*#\n",
    "# * Scraping: JPL Mars Space Images - Featured Image\n",
    "#*#*#*#*#*#*#*#*#*#*#*#*#*#*#*#*#*#*#*#*#*#*#*#*#*#*#*#*#*#*#*#*#*#*#*#*#*#*#*#*#*#*#*#*#*#*#*#*#*#\n",
    "def test():\n",
    "    url2 = 'https://www.jpl.nasa.gov/spaceimages/?search=&category=Mars'\n",
    "    browser.visit(url2)\n",
    "\n",
    "    # Read in current page as soup\n",
    "    html = browser.html\n",
    "    soup = bs(html, 'html.parser')\n",
    "\n",
    "    # Click the full image link\n",
    "    browser.click_link_by_partial_text('FULL IMAGE')\n",
    "\n",
    "    # Read in current page as soup\n",
    "    html = browser.html\n",
    "    soup = bs(html, 'html.parser')\n",
    "\n",
    "    # Gather up the fancy-box image data\n",
    "    image_data = soup.find('img', class_='fancybox-image')\n",
    "    return image_data\n",
    "\n",
    "\n",
    "# TODOTODOTODOTODOTODOTODOTODOTODOTODOTODOTODOTODOTODOTODOTODOTODOTODOTODOTODOTODOTODO\n",
    "# @NOTE #* Don't change this, it will break without failing, waiting, and redoing..\n",
    "try:\n",
    "    image_data = test()\n",
    "except:\n",
    "    TypeError\n",
    "print('Fetching Latest Featured Image...\\n')\n",
    "time.sleep(5)\n",
    "try:\n",
    "    image_data = test()\n",
    "except:\n",
    "    TypeError\n",
    "# TODOTODOTODOTODOTODOTODOTODOTODOTODOTODOTODOTODOTODOTODOTODOTODOTODOTODOTODOTODOTODO\n",
    "\n",
    "# Assign the base starting url\n",
    "featured_base = 'https://www.jpl.nasa.gov'\n",
    "\n",
    "# Assign the src field ending url\n",
    "featured_end = image_data['src']\n",
    "\n",
    "# Assign the full url with the base and the end\n",
    "featured_image_url = featured_base + featured_end"
   ]
  },
  {
   "cell_type": "code",
   "execution_count": 5,
   "metadata": {},
   "outputs": [
    {
     "name": "stdout",
     "output_type": "stream",
     "text": [
      "Fetching Latest Weather...\n",
      "\n"
     ]
    }
   ],
   "source": [
    "#*#*#*#*#*#*#*#*#*#*#*#*#*#*#*#*#*#*#*#*#*#*#*#*#*#*#*#*#*#*#*#*#*#*#*#*#*#*#*#*#*#*#*#*#*#*#*#*#*#\n",
    "# * Scraping: Mars Weather\n",
    "#*#*#*#*#*#*#*#*#*#*#*#*#*#*#*#*#*#*#*#*#*#*#*#*#*#*#*#*#*#*#*#*#*#*#*#*#*#*#*#*#*#*#*#*#*#*#*#*#*#\n",
    "# Provided url is assigned and a browser is sent to visit the page\n",
    "url3 = 'https://twitter.com/marswxreport?lang=en'\n",
    "print('Fetching Latest Weather...\\n')\n",
    "browser.visit(url3)\n",
    "time.sleep(2)\n",
    "\n",
    "# Read in current page as soup\n",
    "html = browser.html\n",
    "soup = bs(html, 'html.parser')\n",
    "\n",
    "# Gather up tweet data\n",
    "tweet_data = soup.find('div', class_='js-tweet-text-container')\n",
    "\n",
    "# This takes off the tweet's picture link\n",
    "mars_weather = tweet_data.text[1:-27]"
   ]
  },
  {
   "cell_type": "code",
   "execution_count": 6,
   "metadata": {},
   "outputs": [],
   "source": [
    "#*#*#*#*#*#*#*#*#*#*#*#*#*#*#*#*#*#*#*#*#*#*#*#*#*#*#*#*#*#*#*#*#*#*#*#*#*#*#*#*#*#*#*#*#*#*#*#*#*#\n",
    "# * Scraping: Mars Facts\n",
    "#*#*#*#*#*#*#*#*#*#*#*#*#*#*#*#*#*#*#*#*#*#*#*#*#*#*#*#*#*#*#*#*#*#*#*#*#*#*#*#*#*#*#*#*#*#*#*#*#*#\n",
    "# Provided url is assigned and a browser is sent to visit the page\n",
    "url4 = 'http://space-facts.com/mars/'\n",
    "browser.visit(url4)\n",
    "\n",
    "# Read in current page as soup\n",
    "html = browser.html\n",
    "soup = bs(html, 'html.parser')\n",
    "\n",
    "#table_data = soup.find_all('table', id=\"tablepress-mars\")\n",
    "# table_data\n",
    "mars_table = pd.read_html(html)\n",
    "mars_table = mars_table[(len(mars_table) - 1)]\n",
    "\n",
    "mars_table_html_string = mars_table.to_html()\n",
    "\n",
    "\n",
    "# testing taking out newlines and file reading\n",
    "#no_newlines = mars_table_html_string.replace('\\n', '')\n",
    "#no_newlines = mars_table.to_html('no_newlines.html')\n",
    "\n",
    "# testing keeping newlines and file reading\n",
    "#newlines = mars_table.to_html('newlines.html')\n",
    "\n",
    "# print(mars_table_html_string)\n",
    "# mars_table\n"
   ]
  },
  {
   "cell_type": "code",
   "execution_count": 124,
   "metadata": {},
   "outputs": [],
   "source": [
    "#mars_table.to_csv('mars_facts.csv')\n",
    "mars_table.to_csv('mars_facts.csv')"
   ]
  },
  {
   "cell_type": "code",
   "execution_count": 126,
   "metadata": {},
   "outputs": [
    {
     "name": "stdout",
     "output_type": "stream",
     "text": [
      "Loading page (1/2)\n",
      "[>                                                           ] 0%\r",
      "[======>                                                     ] 10%\r",
      "[==============================>                             ] 50%\r",
      "[============================================================] 100%\r",
      "Rendering (2/2)                                                    \n",
      "[>                                                           ] 0%\r",
      "[===============>                                            ] 25%\r",
      "[============================================================] 100%\r",
      "Done                                                               \n"
     ]
    }
   ],
   "source": [
    "import os\n",
    "import imgkit\n",
    "\n",
    "def DataFrame_to_image(data, css, outputfile=\"mars_facts.png\", format=\"png\"):\n",
    "    '''\n",
    "    For rendering a Pandas DataFrame as an image.\n",
    "    data: a pandas DataFrame\n",
    "    css: a string containing rules for styling the output table. This must \n",
    "         contain both the opening an closing <style> tags.\n",
    "    *outputimage: filename for saving of generated image\n",
    "    *format: output format, as supported by IMGKit. Default is \"png\"\n",
    "    '''\n",
    "    fn = str(\"holding\" + \".html\")\n",
    "    \n",
    "    try:\n",
    "        os.remove(fn)\n",
    "    except:\n",
    "        None\n",
    "    text_file = open(fn, \"a\")\n",
    "    \n",
    "    # write the CSS\n",
    "    text_file.write(css)\n",
    "    # write the HTML-ized Pandas DataFrame\n",
    "    text_file.write(data.to_html())\n",
    "    text_file.close()\n",
    "    \n",
    "    # See IMGKit options for full configuration,\n",
    "    # e.g. cropping of final image\n",
    "    imgkitoptions = {\"width\": 652,\n",
    "                    'quality': 100}\n",
    "    \n",
    "    imgkit.from_file(fn, outputfile, options=imgkitoptions)\n",
    "    os.remove(fn)\n",
    "    \n",
    "mars_table = pd.read_csv(open('mars_facts.csv', 'r'))\n",
    "    \n",
    "mars_css = \"\"\"\n",
    "<style type=\\\"text/css\\\">\n",
    "table {\n",
    "color: #FFFFFF;\n",
    "font-family: Helvetica, Arial, sans-serif;\n",
    "width: 640px;\n",
    "border-collapse:\n",
    "collapse; \n",
    "border-spacing: 0;\n",
    "}\n",
    "td, th {\n",
    "border: 1px solid transparent; /* No more visible border */\n",
    "height: 30px;\n",
    "}\n",
    "th {\n",
    "background: #343A40; /* Darken header a bit */\n",
    "color: #343A40;\n",
    "font-weight: bold;\n",
    "}\n",
    "td {\n",
    "background: #3D4449;\n",
    "text-align: center;\n",
    "}\n",
    "table tr:nth-child(odd) td{\n",
    "background-color: #343A40;\n",
    "}\n",
    "</style>\n",
    "\"\"\"\n",
    "\n",
    "\n",
    "DataFrame_to_image(mars_table, mars_css)"
   ]
  },
  {
   "cell_type": "code",
   "execution_count": 7,
   "metadata": {},
   "outputs": [
    {
     "name": "stdout",
     "output_type": "stream",
     "text": [
      "Fetching Latest Hemisphere Images and Titles...\n"
     ]
    }
   ],
   "source": [
    "#*#*#*#*#*#*#*#*#*#*#*#*#*#*#*#*#*#*#*#*#*#*#*#*#*#*#*#*#*#*#*#*#*#*#*#*#*#*#*#*#*#*#*#*#*#*#*#*#*#\n",
    "# * Scraping: Mars Hemispheres\n",
    "#*#*#*#*#*#*#*#*#*#*#*#*#*#*#*#*#*#*#*#*#*#*#*#*#*#*#*#*#*#*#*#*#*#*#*#*#*#*#*#*#*#*#*#*#*#*#*#*#*#\n",
    "# Provided url is assigned and a browser is sent to visit the page\n",
    "url5 = 'https://astrogeology.usgs.gov/search/results?q=hemisphere+enhanced&k1=target&v1=Mars'\n",
    "print('Fetching Latest Hemisphere Images and Titles...')\n",
    "browser.visit(url5)\n",
    "time.sleep(2)\n",
    "\n",
    "# Read in current page as soup\n",
    "html = browser.html\n",
    "soup = bs(html, 'html.parser')\n",
    "\n",
    "# Gather all link data\n",
    "links = soup.find_all('a', class_='itemLink')\n",
    "\n",
    "# Create an empty list to hold each hemisphere's link\n",
    "links_list = []\n",
    "\n",
    "# Append each hemisphere's link to the links_list if it doesn't already exist (delete dupes)\n",
    "for link in links:\n",
    "    href = link['href']\n",
    "    if href not in links_list:\n",
    "        links_list.append(href)\n",
    "\n",
    "# Assign vars for each one\n",
    "cerberus_end = links_list[0]\n",
    "schiaparelli_end = links_list[1]\n",
    "syrtis_major_end = links_list[2]\n",
    "valles_marineris_end = links_list[3]\n",
    "\n",
    "# Assign the base url to use with the hemipshere's links\n",
    "links_start = 'https://astrogeology.usgs.gov'\n",
    "\n",
    "# Assign vars for full links (base + hemisphere)\n",
    "cerberus_full = links_start + cerberus_end\n",
    "schiaperelli_full = links_start + schiaparelli_end\n",
    "syrtis_major_full = links_start + syrtis_major_end\n",
    "valles_marineris_full = links_start + valles_marineris_end"
   ]
  },
  {
   "cell_type": "code",
   "execution_count": 8,
   "metadata": {},
   "outputs": [
    {
     "name": "stdout",
     "output_type": "stream",
     "text": [
      "-----Cerebus...\n"
     ]
    }
   ],
   "source": [
    "#*#*#*#*#*#*#*#*#*#*#*#*#*#*#*#*#*#*#*#*#*#*#*#*#\n",
    "# * Scraping: Mars Hemispheres - Cerberus\n",
    "#*#*#*#*#*#*#*#*#*#*#*#*#*#*#*#*#*#*#*#*#*#*#*#*#\n",
    "# Navigate the browser to the hemisphere's url\n",
    "print('-----Cerebus...')\n",
    "browser.visit(cerberus_full)\n",
    "time.sleep(1)\n",
    "\n",
    "# Read in current page as soup\n",
    "html = browser.html\n",
    "soup = bs(html, 'html.parser')\n",
    "\n",
    "# Gather the wide-image class' source url and assign to a var\n",
    "cerberus_pic_data = soup.find_all('img', class_=\"wide-image\")\n",
    "cerberus_pic_end = cerberus_pic_data[0]['src']\n",
    "\n",
    "# Assign a var for the full url (base + hemisphere)\n",
    "cerberus_picture_full = links_start + cerberus_pic_end\n",
    "\n",
    "# Gather the first h2 header of title class and assign the text output to a var\n",
    "cerberus_title_data = soup.find('h2', class_='title')\n",
    "cerberus_title_full = cerberus_title_data.text"
   ]
  },
  {
   "cell_type": "code",
   "execution_count": 9,
   "metadata": {},
   "outputs": [
    {
     "name": "stdout",
     "output_type": "stream",
     "text": [
      "-----Schiaperelli..\n"
     ]
    }
   ],
   "source": [
    "#*#*#*#*#*#*#*#*#*#*#*#*#*#*#*#*#*#*#*#*#*#*#*#*#\n",
    "# * Scraping: Mars Hemispheres - Schiaperelli\n",
    "#*#*#*#*#*#*#*#*#*#*#*#*#*#*#*#*#*#*#*#*#*#*#*#*#\n",
    "# Navigate the browser to the hemisphere's url\n",
    "print('-----Schiaperelli..')\n",
    "browser.visit(schiaperelli_full)\n",
    "time.sleep(1)\n",
    "\n",
    "# Read in current page as soup\n",
    "html = browser.html\n",
    "soup = bs(html, 'html.parser')\n",
    "\n",
    "# Gather the wide-image class' source url and assign to a var\n",
    "schiaperelli_pic_data = soup.find_all('img', class_=\"wide-image\")\n",
    "schiaperelli_pic_end = schiaperelli_pic_data[0]['src']\n",
    "\n",
    "# Assign a var for the full url (base + hemisphere)\n",
    "schiaperelli_picture_full = links_start + schiaperelli_pic_end\n",
    "\n",
    "# Gather the first h2 header of title class and assign the text output to a var\n",
    "schiaperelli_title_data = soup.find('h2', class_='title')\n",
    "schiaperelli_title_full = schiaperelli_title_data.text"
   ]
  },
  {
   "cell_type": "code",
   "execution_count": 10,
   "metadata": {},
   "outputs": [
    {
     "name": "stdout",
     "output_type": "stream",
     "text": [
      "-----Syrtis Major...\n"
     ]
    }
   ],
   "source": [
    "#*#*#*#*#*#*#*#*#*#*#*#*#*#*#*#*#*#*#*#*#*#*#*#*#\n",
    "# * Scraping: Mars Hemispheres - Syrtis Major\n",
    "#*#*#*#*#*#*#*#*#*#*#*#*#*#*#*#*#*#*#*#*#*#*#*#*#\n",
    "# Navigate the browser to the hemisphere's url\n",
    "print('-----Syrtis Major...')\n",
    "browser.visit(syrtis_major_full)\n",
    "time.sleep(1)\n",
    "\n",
    "# Read in current page as soup\n",
    "html = browser.html\n",
    "soup = bs(html, 'html.parser')\n",
    "\n",
    "# Gather the wide-image class' source url and assign to a var\n",
    "syrtis_major_pic_data = soup.find_all('img', class_=\"wide-image\")\n",
    "syrtis_major_pic_end = syrtis_major_pic_data[0]['src']\n",
    "\n",
    "# Assign a var for the full url (base + hemisphere)\n",
    "syrtis_major_picture_full = links_start + syrtis_major_pic_end\n",
    "\n",
    "# Gather the first h2 header of title class and assign the text output to a var\n",
    "syrtis_major_title_data = soup.find('h2', class_='title')\n",
    "syrtis_major_title_full = syrtis_major_title_data.text"
   ]
  },
  {
   "cell_type": "code",
   "execution_count": 11,
   "metadata": {},
   "outputs": [
    {
     "name": "stdout",
     "output_type": "stream",
     "text": [
      "-----Valles Marineris...\n",
      "\n"
     ]
    }
   ],
   "source": [
    "#*#*#*#*#*#*#*#*#*#*#*#*#*#*#*#*#*#*#*#*#*#*#*#*#\n",
    "# * Scraping: Mars Hemispheres - Valles Marineris\n",
    "#*#*#*#*#*#*#*#*#*#*#*#*#*#*#*#*#*#*#*#*#*#*#*#*#\n",
    "# Navigate the browser to the hemisphere's url\n",
    "print('-----Valles Marineris...\\n')\n",
    "browser.visit(valles_marineris_full)\n",
    "time.sleep(1)\n",
    "\n",
    "# Read in current page as soup\n",
    "html = browser.html\n",
    "soup = bs(html, 'html.parser')\n",
    "\n",
    "# Gather the wide-image class' source url and assign to a var\n",
    "valles_marineris_pic_data = soup.find_all('img', class_=\"wide-image\")\n",
    "valles_marineris_pic_end = valles_marineris_pic_data[0]['src']\n",
    "\n",
    "# Assign a var for the full url (base + hemisphere)\n",
    "valles_marineris_picture_full = links_start + valles_marineris_pic_end\n",
    "\n",
    "# Gather the first h2 header of title class and assign the text output to a var\n",
    "valles_marineris_title_data = soup.find('h2', class_='title')\n",
    "valles_marineris_title_full = valles_marineris_title_data.text"
   ]
  },
  {
   "cell_type": "code",
   "execution_count": 12,
   "metadata": {},
   "outputs": [
    {
     "data": {
      "text/plain": [
       "[{'img_url': 'https://astrogeology.usgs.gov/cache/images/cfa62af2557222a02478f1fcd781d445_cerberus_enhanced.tif_full.jpg',\n",
       "  'title': 'Cerberus Hemisphere Enhanced'},\n",
       " {'img_url': 'https://astrogeology.usgs.gov/cache/images/3cdd1cbf5e0813bba925c9030d13b62e_schiaparelli_enhanced.tif_full.jpg',\n",
       "  'title': 'Schiaparelli Hemisphere Enhanced'},\n",
       " {'img_url': 'https://astrogeology.usgs.gov/cache/images/ae209b4e408bb6c3e67b6af38168cf28_syrtis_major_enhanced.tif_full.jpg',\n",
       "  'title': 'Syrtis Major Hemisphere Enhanced'},\n",
       " {'img_url': 'https://astrogeology.usgs.gov/cache/images/7cf2da4bf549ed01c17f206327be4db7_valles_marineris_enhanced.tif_full.jpg',\n",
       "  'title': 'Valles Marineris Hemisphere Enhanced'}]"
      ]
     },
     "execution_count": 12,
     "metadata": {},
     "output_type": "execute_result"
    }
   ],
   "source": [
    "#*#*#*#*#*#*#*#*#*#*#*#*#*#*#*#*#*#*#*#*#*#*#*#*#*#*#*#*#*#*#*#*#*#*#*#*#*#*#*#*#*#*#*#*#*#*#*#*#*#\n",
    "# * Data Munging: Hemisphere dictionaries with scraped image url and title\n",
    "#*#*#*#*#*#*#*#*#*#*#*#*#*#*#*#*#*#*#*#*#*#*#*#*#*#*#*#*#*#*#*#*#*#*#*#*#*#*#*#*#*#*#*#*#*#*#*#*#*#\n",
    "# Use a Python dictionary to store the data using the keys img_url and title.\n",
    "cerberus_dict = {'img_url': cerberus_picture_full,\n",
    "                 'title': cerberus_title_full}\n",
    "schiaperelli_dict = {'img_url': schiaperelli_picture_full,\n",
    "                     'title': schiaperelli_title_full}\n",
    "syrtis_major_dict = {'img_url': syrtis_major_picture_full,\n",
    "                     'title': syrtis_major_title_full}\n",
    "valles_marineris_dict = {'img_url': valles_marineris_picture_full,\n",
    "                         'title': valles_marineris_title_full}\n",
    "\n",
    "#*#*#*#*#*#*#*#*#*#*#*#*#*#*#*#*#*#*#*#*#*#*#*#*#*#*#*#*#*#*#*#*#*#*#*#*#*#*#*#*#*#*#*#*#*#*#*#*#*#\n",
    "# * Data Munging: Append all hemisphere dictionaries to a list\n",
    "#*#*#*#*#*#*#*#*#*#*#*#*#*#*#*#*#*#*#*#*#*#*#*#*#*#*#*#*#*#*#*#*#*#*#*#*#*#*#*#*#*#*#*#*#*#*#*#*#*#\n",
    "# Append the dictionary with the image url string and the hemisphere title to a list.\n",
    "# This list will contain one dictionary for each hemisphere.\n",
    "mars_hemisphere_list = []\n",
    "mars_hemisphere_list.append(cerberus_dict)\n",
    "mars_hemisphere_list.append(schiaperelli_dict)\n",
    "mars_hemisphere_list.append(syrtis_major_dict)\n",
    "mars_hemisphere_list.append(valles_marineris_dict)\n",
    "mars_hemisphere_list"
   ]
  },
  {
   "cell_type": "code",
   "execution_count": 13,
   "metadata": {},
   "outputs": [],
   "source": [
    "#*#*#*#*#*#*#*#*#*#*#*#*#*#*#*#*#*#*#*#*#*#*#*#*#*#*#*#*#*#*#*#*#*#*#*#*#*#*#*#*#*#*#*#*#*#*#*#*#*#\n",
    "# * Method Library\n",
    "#*#*#*#*#*#*#*#*#*#*#*#*#*#*#*#*#*#*#*#*#*#*#*#*#*#*#*#*#*#*#*#*#*#*#*#*#*#*#*#*#*#*#*#*#*#*#*#*#*#\n",
    "\n",
    "# browser.quit()\n",
    "\n",
    "# Scrape is a method required by the homework that is to execute all of my scraping code above and\n",
    "# return one Python dictionary containing all of the scraped data.\n",
    "\n",
    "\n",
    "def scrape():\n",
    "    latest_mars_news = {'title': latest_title,\n",
    "                        'paragraph': latest_paragraph}\n",
    "    one_dict_to_rule_them_all = {'hemisphere_titles_and_images': mars_hemisphere_list,\n",
    "                                 'latest_mars_news': latest_mars_news,\n",
    "                                 'featured_image_url': featured_image_url,\n",
    "                                 'latest_mars_weather': mars_weather,\n",
    "                                 'mars_facts_table_html': mars_table_html_string}\n",
    "    return one_dict_to_rule_them_all"
   ]
  },
  {
   "cell_type": "code",
   "execution_count": 127,
   "metadata": {},
   "outputs": [
    {
     "ename": "NameError",
     "evalue": "name 'outputfile' is not defined",
     "output_type": "error",
     "traceback": [
      "\u001b[0;31m---------------------------------------------------------------------------\u001b[0m",
      "\u001b[0;31mNameError\u001b[0m                                 Traceback (most recent call last)",
      "\u001b[0;32m<ipython-input-127-99dc25975b96>\u001b[0m in \u001b[0;36m<module>\u001b[0;34m\u001b[0m\n\u001b[0;32m----> 1\u001b[0;31m \u001b[0mprint\u001b[0m\u001b[0;34m(\u001b[0m\u001b[0moutputfile\u001b[0m\u001b[0;34m)\u001b[0m\u001b[0;34m\u001b[0m\u001b[0;34m\u001b[0m\u001b[0m\n\u001b[0m",
      "\u001b[0;31mNameError\u001b[0m: name 'outputfile' is not defined"
     ]
    }
   ],
   "source": [
    "print(outputfile)"
   ]
  },
  {
   "cell_type": "code",
   "execution_count": 132,
   "metadata": {},
   "outputs": [
    {
     "data": {
      "text/plain": [
       "'/Users/nicolespaar/Desktop/Scrape'"
      ]
     },
     "execution_count": 132,
     "metadata": {},
     "output_type": "execute_result"
    }
   ],
   "source": [
    "import os\n",
    "cwd = os.getcwd()\n",
    "cwd"
   ]
  },
  {
   "cell_type": "code",
   "execution_count": null,
   "metadata": {},
   "outputs": [],
   "source": []
  }
 ],
 "metadata": {
  "kernelspec": {
   "display_name": "Python 3",
   "language": "python",
   "name": "python3"
  },
  "language_info": {
   "codemirror_mode": {
    "name": "ipython",
    "version": 3
   },
   "file_extension": ".py",
   "mimetype": "text/x-python",
   "name": "python",
   "nbconvert_exporter": "python",
   "pygments_lexer": "ipython3",
   "version": "3.7.1"
  }
 },
 "nbformat": 4,
 "nbformat_minor": 2
}
