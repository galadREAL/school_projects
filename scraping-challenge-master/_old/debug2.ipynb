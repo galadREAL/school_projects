{
 "cells": [
  {
   "cell_type": "code",
   "execution_count": 1,
   "metadata": {},
   "outputs": [],
   "source": [
    "#*#*#*#*#*#*#*#*#*#*#*#*#*#*#*#*#*#*#*#*#*#*#*#*#*#*#*#*#*#*#*#*#*#*#*#*#*#*#*#*#*#*#*#*#*#*#*#*#*#\n",
    "# * Dependencies\n",
    "#*#*#*#*#*#*#*#*#*#*#*#*#*#*#*#*#*#*#*#*#*#*#*#*#*#*#*#*#*#*#*#*#*#*#*#*#*#*#*#*#*#*#*#*#*#*#*#*#*#\n",
    "import pandas as pd\n",
    "from splinter import Browser\n",
    "from bs4 import BeautifulSoup as bs\n",
    "import time\n",
    "import os\n",
    "import imgkit"
   ]
  },
  {
   "cell_type": "code",
   "execution_count": 2,
   "metadata": {},
   "outputs": [
    {
     "name": "stdout",
     "output_type": "stream",
     "text": [
      "Initizalizing Splinter Browser...\n",
      "\n",
      "Fetching Latest News...\n",
      "\n"
     ]
    }
   ],
   "source": [
    "#*#*#*#*#*#*#*#*#*#*#*#*#*#*#*#*#*#*#*#*#*#*#*#*#*#*#*#*#*#*#*#*#*#*#*#*#*#*#*#*#*#*#*#*#*#*#*#*#*#\n",
    "# * Browser Setup\n",
    "#*#*#*#*#*#*#*#*#*#*#*#*#*#*#*#*#*#*#*#*#*#*#*#*#*#*#*#*#*#*#*#*#*#*#*#*#*#*#*#*#*#*#*#*#*#*#*#*#*#\n",
    "# Links up chrome to this notebook\n",
    "print('Initizalizing Splinter Browser...\\n')\n",
    "time.sleep(2)\n",
    "executable_path = {'executable_path': '/usr/local/bin/chromedriver'}\n",
    "browser = Browser('chrome', **executable_path, headless=False)\n",
    "\n",
    "#*#*#*#*#*#*#*#*#*#*#*#*#*#*#*#*#*#*#*#*#*#*#*#*#*#*#*#*#*#*#*#*#*#*#*#*#*#*#*#*#*#*#*#*#*#*#*#*#*#\n",
    "# * Scraping: NASA Mars News\n",
    "#*#*#*#*#*#*#*#*#*#*#*#*#*#*#*#*#*#*#*#*#*#*#*#*#*#*#*#*#*#*#*#*#*#*#*#*#*#*#*#*#*#*#*#*#*#*#*#*#*#\n",
    "# Provided url is assigned and a browser is sent to visit the page\n",
    "url = 'https://mars.nasa.gov/news/'\n",
    "print('Fetching Latest News...\\n')\n",
    "browser.visit(url)\n",
    "time.sleep(2)\n",
    "\n",
    "# Stick the url's html into a soup object to parse\n",
    "html = browser.html\n",
    "soup = bs(html, 'html.parser')\n",
    "\n",
    "# Gather up all the content_title and assign the [0] position one to latest_title\n",
    "titles = soup.find_all('div', class_='content_title')\n",
    "latest_title = titles[0].text\n",
    "\n",
    "# Gather up all the article_teaser_body and assign the [0] position one to latest_paragraph\n",
    "paragraphs = soup.find_all('div', class_='article_teaser_body')\n",
    "latest_paragraph = paragraphs[0].text"
   ]
  },
  {
   "cell_type": "code",
   "execution_count": 3,
   "metadata": {},
   "outputs": [
    {
     "name": "stdout",
     "output_type": "stream",
     "text": [
      "Fetching Latest Featured Image...\n",
      "\n"
     ]
    }
   ],
   "source": [
    "#*#*#*#*#*#*#*#*#*#*#*#*#*#*#*#*#*#*#*#*#*#*#*#*#*#*#*#*#*#*#*#*#*#*#*#*#*#*#*#*#*#*#*#*#*#*#*#*#*#\n",
    "# * Scraping: JPL Mars Space Images - Featured Image\n",
    "#*#*#*#*#*#*#*#*#*#*#*#*#*#*#*#*#*#*#*#*#*#*#*#*#*#*#*#*#*#*#*#*#*#*#*#*#*#*#*#*#*#*#*#*#*#*#*#*#*#\n",
    "\n",
    "\n",
    "def test():\n",
    "    url2 = 'https://www.jpl.nasa.gov/spaceimages/?search=&category=Mars'\n",
    "    browser.visit(url2)\n",
    "\n",
    "    # Read in current page as soup\n",
    "    html = browser.html\n",
    "    soup = bs(html, 'html.parser')\n",
    "\n",
    "    # Click the full image link\n",
    "    browser.click_link_by_partial_text('FULL IMAGE')\n",
    "\n",
    "    # Read in current page as soup\n",
    "    html = browser.html\n",
    "    soup = bs(html, 'html.parser')\n",
    "\n",
    "    # Gather up the fancy-box image data\n",
    "    image_data = soup.find('img', class_='fancybox-image')\n",
    "    return image_data\n",
    "\n",
    "\n",
    "# TODOTODOTODOTODOTODOTODOTODOTODOTODOTODOTODOTODOTODOTODOTODOTODOTODOTODOTODOTODOTODO\n",
    "# @NOTE #* Don't change this, it will break without failing, waiting, and redoing..\n",
    "try:\n",
    "    image_data = test()\n",
    "except:\n",
    "    TypeError\n",
    "print('Fetching Latest Featured Image...\\n')\n",
    "time.sleep(5)\n",
    "try:\n",
    "    image_data = test()\n",
    "except:\n",
    "    TypeError\n",
    "# TODOTODOTODOTODOTODOTODOTODOTODOTODOTODOTODOTODOTODOTODOTODOTODOTODOTODOTODOTODOTODO\n",
    "\n",
    "# Assign the base starting url\n",
    "featured_base = 'https://www.jpl.nasa.gov'\n",
    "\n",
    "# Assign the src field ending url\n",
    "featured_end = image_data['src']\n",
    "\n",
    "# Assign the full url with the base and the end\n",
    "featured_image_url = featured_base + featured_end\n"
   ]
  },
  {
   "cell_type": "code",
   "execution_count": 4,
   "metadata": {},
   "outputs": [
    {
     "name": "stdout",
     "output_type": "stream",
     "text": [
      "Fetching Latest Weather...\n",
      "\n"
     ]
    }
   ],
   "source": [
    "#*#*#*#*#*#*#*#*#*#*#*#*#*#*#*#*#*#*#*#*#*#*#*#*#*#*#*#*#*#*#*#*#*#*#*#*#*#*#*#*#*#*#*#*#*#*#*#*#*#\n",
    "# * Scraping: Mars Weather\n",
    "#*#*#*#*#*#*#*#*#*#*#*#*#*#*#*#*#*#*#*#*#*#*#*#*#*#*#*#*#*#*#*#*#*#*#*#*#*#*#*#*#*#*#*#*#*#*#*#*#*#\n",
    "# Provided url is assigned and a browser is sent to visit the page\n",
    "url3 = 'https://twitter.com/marswxreport?lang=en'\n",
    "print('Fetching Latest Weather...\\n')\n",
    "browser.visit(url3)\n",
    "time.sleep(2)\n",
    "\n",
    "# Read in current page as soup\n",
    "html = browser.html\n",
    "soup = bs(html, 'html.parser')\n",
    "\n",
    "# Gather up tweet data\n",
    "tweet_data = soup.find('div', class_='js-tweet-text-container')\n",
    "\n",
    "# This takes off the tweet's picture link\n",
    "mars_weather = tweet_data.text[1:-27]"
   ]
  },
  {
   "cell_type": "code",
   "execution_count": 5,
   "metadata": {},
   "outputs": [
    {
     "name": "stdout",
     "output_type": "stream",
     "text": [
      "Loading page (1/2)\n",
      "[>                                                           ] 0%\r",
      "[======>                                                     ] 10%\r",
      "[==============================>                             ] 50%\r",
      "[============================================================] 100%\r",
      "Rendering (2/2)                                                    \n",
      "[>                                                           ] 0%\r",
      "[===============>                                            ] 25%\r",
      "[============================================================] 100%\r",
      "Done                                                               \n"
     ]
    }
   ],
   "source": [
    "#*#*#*#*#*#*#*#*#*#*#*#*#*#*#*#*#*#*#*#*#*#*#*#*#*#*#*#*#*#*#*#*#*#*#*#*#*#*#*#*#*#*#*#*#*#*#*#*#*#\n",
    "# * Scraping: Mars Facts\n",
    "#*#*#*#*#*#*#*#*#*#*#*#*#*#*#*#*#*#*#*#*#*#*#*#*#*#*#*#*#*#*#*#*#*#*#*#*#*#*#*#*#*#*#*#*#*#*#*#*#*#\n",
    "# Provided url is assigned and a browser is sent to visit the page\n",
    "url4 = 'http://space-facts.com/mars/'\n",
    "print('Fetching Latest Mars Facts...')\n",
    "browser.visit(url4)\n",
    "time.sleep(2)\n",
    "\n",
    "# Read in current page as soup\n",
    "html = browser.html\n",
    "soup = bs(html, 'html.parser')\n",
    "\n",
    "#table_data = soup.find_all('table', id=\"tablepress-mars\")\n",
    "# table_data\n",
    "mars_table = pd.read_html(html)\n",
    "mars_table = mars_table[(len(mars_table) - 1)]\n",
    "\n",
    "mars_table_html_string = mars_table.to_html()\n",
    "\n",
    "# print(mars_table_html_string)\n",
    "# mars_table\n",
    "\n",
    "#*#*#*#*#*#*#*#*#*#*#*#*#*#*#*#*#*#*#*#*#*#*#*#*#\n",
    "# * Can't beat 'em, Join 'em:\n",
    "# * Mars Facts df to .csv to .png\n",
    "#*#*#*#*#*#*#*#*#*#*#*#*#*#*#*#*#*#*#*#*#*#*#*#*#\n",
    "# Convert the raw html's dataframe into a .csv\n",
    "mars_table.to_csv('mars_facts.csv')\n",
    "\n",
    "# https://medium.com/@andy.lane/convert-pandas-dataframes-to-images-using-imgkit-5da7e5108d55\n",
    "\n",
    "\n",
    "def DataFrame_to_image(data, css, outputfile=\"mars_facts.png\", format=\"png\"):\n",
    "    '''\n",
    "    For rendering a Pandas DataFrame as an image.\n",
    "    data: a pandas DataFrame\n",
    "    css: a string containing rules for styling the output table. This must\n",
    "         contain both the opening an closing <style> tags.\n",
    "    *outputimage: filename for saving of generated image\n",
    "    *format: output format, as supported by IMGKit. Default is \"png\"\n",
    "    '''\n",
    "    fn = str(\"holding\" + \".html\")\n",
    "    try:\n",
    "        os.remove(fn)\n",
    "    except:\n",
    "        None\n",
    "    text_file = open(fn, \"a\")\n",
    "    text_file.write(css)\n",
    "    text_file.write(data.to_html())\n",
    "    text_file.close()\n",
    "    imgkitoptions = {\"width\": 652,\n",
    "                     'quality': 100}\n",
    "    imgkit.from_file(fn, outputfile, options=imgkitoptions)\n",
    "    os.remove(fn)\n",
    "    return outputfile\n",
    "\n",
    "\n",
    "# Read the facts table output csv back into a df\n",
    "mars_table = pd.read_csv(open('mars_facts.csv', 'r'))\n",
    "\n",
    "# Declare css styling that will match the index.html\n",
    "mars_css = \"\"\"\n",
    "<style type=\\\"text/css\\\">\n",
    "table {\n",
    "color: #FFFFFF;\n",
    "font-family: Helvetica, Arial, sans-serif;\n",
    "width: 640px;\n",
    "border-collapse:\n",
    "collapse;\n",
    "border-spacing: 0;\n",
    "}\n",
    "td, th {\n",
    "border: 1px solid transparent; /* No more visible border */\n",
    "height: 30px;\n",
    "}\n",
    "th {\n",
    "background: #343A40; /* Darken header a bit */\n",
    "color: #343A40;\n",
    "font-weight: bold;\n",
    "}\n",
    "td {\n",
    "background: #3D4449;\n",
    "text-align: center;\n",
    "}\n",
    "table tr:nth-child(odd) td{\n",
    "background-color: #343A40;\n",
    "}\n",
    "</style>\n",
    "\"\"\"\n",
    "\n",
    "# Execute the df to image method and assign the path of the output image\n",
    "outputfile = DataFrame_to_image(mars_table, mars_css)\n",
    "\n",
    "print('\\n')"
   ]
  },
  {
   "cell_type": "code",
   "execution_count": 6,
   "metadata": {},
   "outputs": [
    {
     "name": "stdout",
     "output_type": "stream",
     "text": [
      "Fetching Latest Hemisphere Images and Titles...\n"
     ]
    }
   ],
   "source": [
    "#*#*#*#*#*#*#*#*#*#*#*#*#*#*#*#*#*#*#*#*#*#*#*#*#*#*#*#*#*#*#*#*#*#*#*#*#*#*#*#*#*#*#*#*#*#*#*#*#*#\n",
    "# * Scraping: Mars Hemispheres\n",
    "#*#*#*#*#*#*#*#*#*#*#*#*#*#*#*#*#*#*#*#*#*#*#*#*#*#*#*#*#*#*#*#*#*#*#*#*#*#*#*#*#*#*#*#*#*#*#*#*#*#\n",
    "# Provided url is assigned and a browser is sent to visit the page\n",
    "url5 = 'https://astrogeology.usgs.gov/search/results?q=hemisphere+enhanced&k1=target&v1=Mars'\n",
    "print('Fetching Latest Hemisphere Images and Titles...')\n",
    "browser.visit(url5)\n",
    "time.sleep(2)\n",
    "\n",
    "# Read in current page as soup\n",
    "html = browser.html\n",
    "soup = bs(html, 'html.parser')\n",
    "\n",
    "# Gather all link data\n",
    "links = soup.find_all('a', class_='itemLink')\n",
    "\n",
    "# Create an empty list to hold each hemisphere's link\n",
    "links_list = []\n",
    "\n",
    "# Append each hemisphere's link to the links_list if it doesn't already exist (delete dupes)\n",
    "for link in links:\n",
    "    href = link['href']\n",
    "    if href not in links_list:\n",
    "        links_list.append(href)\n",
    "\n",
    "# Assign vars for each one\n",
    "cerberus_end = links_list[0]\n",
    "schiaparelli_end = links_list[1]\n",
    "syrtis_major_end = links_list[2]\n",
    "valles_marineris_end = links_list[3]\n",
    "\n",
    "# Assign the base url to use with the hemipshere's links\n",
    "links_start = 'https://astrogeology.usgs.gov'\n",
    "\n",
    "# Assign vars for full links (base + hemisphere)\n",
    "cerberus_full = links_start + cerberus_end\n",
    "schiaperelli_full = links_start + schiaparelli_end\n",
    "syrtis_major_full = links_start + syrtis_major_end\n",
    "valles_marineris_full = links_start + valles_marineris_end"
   ]
  },
  {
   "cell_type": "code",
   "execution_count": 7,
   "metadata": {},
   "outputs": [
    {
     "name": "stdout",
     "output_type": "stream",
     "text": [
      "-----Cerebus...\n",
      "-----Schiaperelli..\n",
      "-----Syrtis Major...\n",
      "-----Valles Marineris...\n",
      "\n"
     ]
    }
   ],
   "source": [
    "#*#*#*#*#*#*#*#*#*#*#*#*#*#*#*#*#*#*#*#*#*#*#*#*#\n",
    "# * Scraping: Mars Hemispheres - Cerberus\n",
    "#*#*#*#*#*#*#*#*#*#*#*#*#*#*#*#*#*#*#*#*#*#*#*#*#\n",
    "# Navigate the browser to the hemisphere's url\n",
    "print('-----Cerebus...')\n",
    "browser.visit(cerberus_full)\n",
    "time.sleep(1)\n",
    "\n",
    "# Read in current page as soup\n",
    "html = browser.html\n",
    "soup = bs(html, 'html.parser')\n",
    "\n",
    "# Gather the wide-image class' source url and assign to a var\n",
    "cerberus_pic_data = soup.find_all('img', class_=\"wide-image\")\n",
    "cerberus_pic_end = cerberus_pic_data[0]['src']\n",
    "\n",
    "# Assign a var for the full url (base + hemisphere)\n",
    "cerberus_picture_full = links_start + cerberus_pic_end\n",
    "\n",
    "# Gather the first h2 header of title class and assign the text output to a var\n",
    "cerberus_title_data = soup.find('h2', class_='title')\n",
    "cerberus_title_full = cerberus_title_data.text\n",
    "\n",
    "#*#*#*#*#*#*#*#*#*#*#*#*#*#*#*#*#*#*#*#*#*#*#*#*#\n",
    "# * Scraping: Mars Hemispheres - Schiaperelli\n",
    "#*#*#*#*#*#*#*#*#*#*#*#*#*#*#*#*#*#*#*#*#*#*#*#*#\n",
    "# Navigate the browser to the hemisphere's url\n",
    "print('-----Schiaperelli..')\n",
    "browser.visit(schiaperelli_full)\n",
    "time.sleep(1)\n",
    "\n",
    "# Read in current page as soup\n",
    "html = browser.html\n",
    "soup = bs(html, 'html.parser')\n",
    "\n",
    "# Gather the wide-image class' source url and assign to a var\n",
    "schiaperelli_pic_data = soup.find_all('img', class_=\"wide-image\")\n",
    "schiaperelli_pic_end = schiaperelli_pic_data[0]['src']\n",
    "\n",
    "# Assign a var for the full url (base + hemisphere)\n",
    "schiaperelli_picture_full = links_start + schiaperelli_pic_end\n",
    "\n",
    "# Gather the first h2 header of title class and assign the text output to a var\n",
    "schiaperelli_title_data = soup.find('h2', class_='title')\n",
    "schiaperelli_title_full = schiaperelli_title_data.text\n",
    "\n",
    "#*#*#*#*#*#*#*#*#*#*#*#*#*#*#*#*#*#*#*#*#*#*#*#*#\n",
    "# * Scraping: Mars Hemispheres - Syrtis Major\n",
    "#*#*#*#*#*#*#*#*#*#*#*#*#*#*#*#*#*#*#*#*#*#*#*#*#\n",
    "# Navigate the browser to the hemisphere's url\n",
    "print('-----Syrtis Major...')\n",
    "browser.visit(syrtis_major_full)\n",
    "time.sleep(1)\n",
    "\n",
    "# Read in current page as soup\n",
    "html = browser.html\n",
    "soup = bs(html, 'html.parser')\n",
    "\n",
    "# Gather the wide-image class' source url and assign to a var\n",
    "syrtis_major_pic_data = soup.find_all('img', class_=\"wide-image\")\n",
    "syrtis_major_pic_end = syrtis_major_pic_data[0]['src']\n",
    "\n",
    "# Assign a var for the full url (base + hemisphere)\n",
    "syrtis_major_picture_full = links_start + syrtis_major_pic_end\n",
    "\n",
    "# Gather the first h2 header of title class and assign the text output to a var\n",
    "syrtis_major_title_data = soup.find('h2', class_='title')\n",
    "syrtis_major_title_full = syrtis_major_title_data.text\n",
    "\n",
    "#*#*#*#*#*#*#*#*#*#*#*#*#*#*#*#*#*#*#*#*#*#*#*#*#\n",
    "# * Scraping: Mars Hemispheres - Valles Marineris\n",
    "#*#*#*#*#*#*#*#*#*#*#*#*#*#*#*#*#*#*#*#*#*#*#*#*#\n",
    "# Navigate the browser to the hemisphere's url\n",
    "print('-----Valles Marineris...\\n')\n",
    "browser.visit(valles_marineris_full)\n",
    "time.sleep(1)\n",
    "\n",
    "# Read in current page as soup\n",
    "html = browser.html\n",
    "soup = bs(html, 'html.parser')\n",
    "\n",
    "# Gather the wide-image class' source url and assign to a var\n",
    "valles_marineris_pic_data = soup.find_all('img', class_=\"wide-image\")\n",
    "valles_marineris_pic_end = valles_marineris_pic_data[0]['src']\n",
    "\n",
    "# Assign a var for the full url (base + hemisphere)\n",
    "valles_marineris_picture_full = links_start + valles_marineris_pic_end\n",
    "\n",
    "# Gather the first h2 header of title class and assign the text output to a var\n",
    "valles_marineris_title_data = soup.find('h2', class_='title')\n",
    "valles_marineris_title_full = valles_marineris_title_data.text"
   ]
  },
  {
   "cell_type": "code",
   "execution_count": 8,
   "metadata": {},
   "outputs": [
    {
     "data": {
      "text/plain": [
       "[{'img_url': 'https://astrogeology.usgs.gov/cache/images/cfa62af2557222a02478f1fcd781d445_cerberus_enhanced.tif_full.jpg',\n",
       "  'title': 'Cerberus Hemisphere Enhanced'},\n",
       " {'img_url': 'https://astrogeology.usgs.gov/cache/images/3cdd1cbf5e0813bba925c9030d13b62e_schiaparelli_enhanced.tif_full.jpg',\n",
       "  'title': 'Schiaparelli Hemisphere Enhanced'},\n",
       " {'img_url': 'https://astrogeology.usgs.gov/cache/images/ae209b4e408bb6c3e67b6af38168cf28_syrtis_major_enhanced.tif_full.jpg',\n",
       "  'title': 'Syrtis Major Hemisphere Enhanced'},\n",
       " {'img_url': 'https://astrogeology.usgs.gov/cache/images/7cf2da4bf549ed01c17f206327be4db7_valles_marineris_enhanced.tif_full.jpg',\n",
       "  'title': 'Valles Marineris Hemisphere Enhanced'}]"
      ]
     },
     "execution_count": 8,
     "metadata": {},
     "output_type": "execute_result"
    }
   ],
   "source": [
    "#*#*#*#*#*#*#*#*#*#*#*#*#*#*#*#*#*#*#*#*#*#*#*#*#*#*#*#*#*#*#*#*#*#*#*#*#*#*#*#*#*#*#*#*#*#*#*#*#*#\n",
    "# * Data Munging: Hemisphere dictionaries with scraped image url and title\n",
    "#*#*#*#*#*#*#*#*#*#*#*#*#*#*#*#*#*#*#*#*#*#*#*#*#*#*#*#*#*#*#*#*#*#*#*#*#*#*#*#*#*#*#*#*#*#*#*#*#*#\n",
    "# Use a Python dictionary to store the data using the keys img_url and title.\n",
    "cerberus_dict = {'img_url': cerberus_picture_full,\n",
    "                 'title': cerberus_title_full}\n",
    "schiaperelli_dict = {'img_url': schiaperelli_picture_full,\n",
    "                     'title': schiaperelli_title_full}\n",
    "syrtis_major_dict = {'img_url': syrtis_major_picture_full,\n",
    "                     'title': syrtis_major_title_full}\n",
    "valles_marineris_dict = {'img_url': valles_marineris_picture_full,\n",
    "                         'title': valles_marineris_title_full}\n",
    "\n",
    "#*#*#*#*#*#*#*#*#*#*#*#*#*#*#*#*#*#*#*#*#*#*#*#*#*#*#*#*#*#*#*#*#*#*#*#*#*#*#*#*#*#*#*#*#*#*#*#*#*#\n",
    "# * Data Munging: Append all hemisphere dictionaries to a list\n",
    "#*#*#*#*#*#*#*#*#*#*#*#*#*#*#*#*#*#*#*#*#*#*#*#*#*#*#*#*#*#*#*#*#*#*#*#*#*#*#*#*#*#*#*#*#*#*#*#*#*#\n",
    "# Append the dictionary with the image url string and the hemisphere title to a list.\n",
    "# This list will contain one dictionary for each hemisphere.\n",
    "mars_hemisphere_list = []\n",
    "mars_hemisphere_list.append(cerberus_dict)\n",
    "mars_hemisphere_list.append(schiaperelli_dict)\n",
    "mars_hemisphere_list.append(syrtis_major_dict)\n",
    "mars_hemisphere_list.append(valles_marineris_dict)\n",
    "mars_hemisphere_list\n"
   ]
  },
  {
   "cell_type": "code",
   "execution_count": 9,
   "metadata": {},
   "outputs": [],
   "source": [
    "browser.quit()\n",
    "\n",
    "# Scrape is a method required by the homework that is to execute all of my scraping code above and\n",
    "# return one Python dictionary containing all of the scraped data.\n",
    "\n",
    "\n",
    "def scrape():\n",
    "    latest_mars_news = {'title': latest_title,\n",
    "                        'paragraph': latest_paragraph}\n",
    "    mars_facts = {'html_string': mars_table_html_string,\n",
    "                  'table_image': outputfile}\n",
    "    one_dict_to_rule_them_all = {'mars_hemisphere_list': mars_hemisphere_list,\n",
    "                                 'latest_mars_news': latest_mars_news,\n",
    "                                 'featured_image_url': featured_image_url,\n",
    "                                 'latest_mars_weather': mars_weather,\n",
    "                                 'mars_facts': mars_facts}\n",
    "    return one_dict_to_rule_them_all\n"
   ]
  },
  {
   "cell_type": "code",
   "execution_count": 10,
   "metadata": {},
   "outputs": [
    {
     "data": {
      "text/plain": [
       "{'mars_hemisphere_list': [{'img_url': 'https://astrogeology.usgs.gov/cache/images/cfa62af2557222a02478f1fcd781d445_cerberus_enhanced.tif_full.jpg',\n",
       "   'title': 'Cerberus Hemisphere Enhanced'},\n",
       "  {'img_url': 'https://astrogeology.usgs.gov/cache/images/3cdd1cbf5e0813bba925c9030d13b62e_schiaparelli_enhanced.tif_full.jpg',\n",
       "   'title': 'Schiaparelli Hemisphere Enhanced'},\n",
       "  {'img_url': 'https://astrogeology.usgs.gov/cache/images/ae209b4e408bb6c3e67b6af38168cf28_syrtis_major_enhanced.tif_full.jpg',\n",
       "   'title': 'Syrtis Major Hemisphere Enhanced'},\n",
       "  {'img_url': 'https://astrogeology.usgs.gov/cache/images/7cf2da4bf549ed01c17f206327be4db7_valles_marineris_enhanced.tif_full.jpg',\n",
       "   'title': 'Valles Marineris Hemisphere Enhanced'}],\n",
       " 'latest_mars_news': {'title': 'Why This Martian Full Moon Looks Like Candy',\n",
       "  'paragraph': \"For the first time, NASA's Mars Odyssey orbiter has caught the Martian moon Phobos during a full moon phase. Each color in this new image represents a temperature range detected by Odyssey's infrared camera.\"},\n",
       " 'featured_image_url': 'https://www.jpl.nasa.gov/spaceimages/images/mediumsize/PIA17009_ip.jpg',\n",
       " 'latest_mars_weather': 'InSight sol 162 (2019-05-12) low -100.2ºC (-148.3ºF) high -20.3ºC (-4.5ºF)\\nwinds from the SW at 4.5 m/s (10.1 mph) gusting to 14.3 m/s (32.0 mph)\\npressure at 7.50 hPa',\n",
       " 'mars_facts': {'html_string': '<table border=\"1\" class=\"dataframe\">\\n  <thead>\\n    <tr style=\"text-align: right;\">\\n      <th></th>\\n      <th>0</th>\\n      <th>1</th>\\n    </tr>\\n  </thead>\\n  <tbody>\\n    <tr>\\n      <th>0</th>\\n      <td>Equatorial Diameter:</td>\\n      <td>6,792 km</td>\\n    </tr>\\n    <tr>\\n      <th>1</th>\\n      <td>Polar Diameter:</td>\\n      <td>6,752 km</td>\\n    </tr>\\n    <tr>\\n      <th>2</th>\\n      <td>Mass:</td>\\n      <td>6.42 x 10^23 kg (10.7% Earth)</td>\\n    </tr>\\n    <tr>\\n      <th>3</th>\\n      <td>Moons:</td>\\n      <td>2 (Phobos &amp; Deimos)</td>\\n    </tr>\\n    <tr>\\n      <th>4</th>\\n      <td>Orbit Distance:</td>\\n      <td>227,943,824 km (1.52 AU)</td>\\n    </tr>\\n    <tr>\\n      <th>5</th>\\n      <td>Orbit Period:</td>\\n      <td>687 days (1.9 years)</td>\\n    </tr>\\n    <tr>\\n      <th>6</th>\\n      <td>Surface Temperature:</td>\\n      <td>-153 to 20 °C</td>\\n    </tr>\\n    <tr>\\n      <th>7</th>\\n      <td>First Record:</td>\\n      <td>2nd millennium BC</td>\\n    </tr>\\n    <tr>\\n      <th>8</th>\\n      <td>Recorded By:</td>\\n      <td>Egyptian astronomers</td>\\n    </tr>\\n  </tbody>\\n</table>',\n",
       "  'table_image': 'mars_facts.png'}}"
      ]
     },
     "execution_count": 10,
     "metadata": {},
     "output_type": "execute_result"
    }
   ],
   "source": [
    "scrape()"
   ]
  },
  {
   "cell_type": "code",
   "execution_count": 20,
   "metadata": {},
   "outputs": [],
   "source": [
    "from flask_pymongo import PyMongo\n",
    "from flask import Flask, redirect, url_for, render_template, g, request\n",
    "\n",
    "app = Flask(__name__)\n",
    "mongo = PyMongo(app, uri=\"mongodb://localhost:27017/mars\")\n"
   ]
  },
  {
   "cell_type": "code",
   "execution_count": 28,
   "metadata": {},
   "outputs": [
    {
     "ename": "AttributeError",
     "evalue": "'dict' object has no attribute 'mars_facts'",
     "output_type": "error",
     "traceback": [
      "\u001b[0;31m---------------------------------------------------------------------------\u001b[0m",
      "\u001b[0;31mAttributeError\u001b[0m                            Traceback (most recent call last)",
      "\u001b[0;32m<ipython-input-28-64bc437f8822>\u001b[0m in \u001b[0;36m<module>\u001b[0;34m\u001b[0m\n\u001b[1;32m      4\u001b[0m     \u001b[0;31m#mongo.db.collection.replace_one({}, mars_data, upsert=True)\u001b[0m\u001b[0;34m\u001b[0m\u001b[0;34m\u001b[0m\u001b[0;34m\u001b[0m\u001b[0m\n\u001b[1;32m      5\u001b[0m     \u001b[0;34m{\u001b[0m\u001b[0;34m{\u001b[0m \u001b[0mdata\u001b[0m\u001b[0;34m.\u001b[0m\u001b[0mmars_facts\u001b[0m\u001b[0;34m.\u001b[0m\u001b[0mtable_image\u001b[0m \u001b[0;34m}\u001b[0m\u001b[0;34m}\u001b[0m\u001b[0;34m\u001b[0m\u001b[0;34m\u001b[0m\u001b[0m\n\u001b[0;32m----> 6\u001b[0;31m \u001b[0msetup\u001b[0m\u001b[0;34m(\u001b[0m\u001b[0;34m)\u001b[0m\u001b[0;34m\u001b[0m\u001b[0;34m\u001b[0m\u001b[0m\n\u001b[0m",
      "\u001b[0;32m<ipython-input-28-64bc437f8822>\u001b[0m in \u001b[0;36msetup\u001b[0;34m()\u001b[0m\n\u001b[1;32m      3\u001b[0m     \u001b[0mdata\u001b[0m \u001b[0;34m=\u001b[0m \u001b[0mscrape\u001b[0m\u001b[0;34m(\u001b[0m\u001b[0;34m)\u001b[0m\u001b[0;34m\u001b[0m\u001b[0;34m\u001b[0m\u001b[0m\n\u001b[1;32m      4\u001b[0m     \u001b[0;31m#mongo.db.collection.replace_one({}, mars_data, upsert=True)\u001b[0m\u001b[0;34m\u001b[0m\u001b[0;34m\u001b[0m\u001b[0;34m\u001b[0m\u001b[0m\n\u001b[0;32m----> 5\u001b[0;31m     \u001b[0;34m{\u001b[0m\u001b[0;34m{\u001b[0m \u001b[0mdata\u001b[0m\u001b[0;34m.\u001b[0m\u001b[0mmars_facts\u001b[0m\u001b[0;34m.\u001b[0m\u001b[0mtable_image\u001b[0m \u001b[0;34m}\u001b[0m\u001b[0;34m}\u001b[0m\u001b[0;34m\u001b[0m\u001b[0;34m\u001b[0m\u001b[0m\n\u001b[0m\u001b[1;32m      6\u001b[0m \u001b[0msetup\u001b[0m\u001b[0;34m(\u001b[0m\u001b[0;34m)\u001b[0m\u001b[0;34m\u001b[0m\u001b[0;34m\u001b[0m\u001b[0m\n",
      "\u001b[0;31mAttributeError\u001b[0m: 'dict' object has no attribute 'mars_facts'"
     ]
    }
   ],
   "source": [
    "def setup():\n",
    "    mars_data = scrape()\n",
    "    mongo.db.collection.replace_one({}, mars_data, upsert=True)\n",
    "setup()"
   ]
  },
  {
   "cell_type": "code",
   "execution_count": 35,
   "metadata": {},
   "outputs": [
    {
     "ename": "AttributeError",
     "evalue": "'dict' object has no attribute 'mars_facts'",
     "output_type": "error",
     "traceback": [
      "\u001b[0;31m---------------------------------------------------------------------------\u001b[0m",
      "\u001b[0;31mAttributeError\u001b[0m                            Traceback (most recent call last)",
      "\u001b[0;32m<ipython-input-35-be9c123c3d24>\u001b[0m in \u001b[0;36m<module>\u001b[0;34m\u001b[0m\n\u001b[1;32m      4\u001b[0m     \u001b[0;32mreturn\u001b[0m \u001b[0mdata\u001b[0m\u001b[0;34m.\u001b[0m\u001b[0mmars_facts\u001b[0m\u001b[0;34m.\u001b[0m\u001b[0mtable_img\u001b[0m\u001b[0;34m\u001b[0m\u001b[0;34m\u001b[0m\u001b[0m\n\u001b[1;32m      5\u001b[0m \u001b[0;34m\u001b[0m\u001b[0m\n\u001b[0;32m----> 6\u001b[0;31m \u001b[0mtest\u001b[0m \u001b[0;34m=\u001b[0m \u001b[0mhome\u001b[0m\u001b[0;34m(\u001b[0m\u001b[0;34m)\u001b[0m\u001b[0;34m\u001b[0m\u001b[0;34m\u001b[0m\u001b[0m\n\u001b[0m\u001b[1;32m      7\u001b[0m \u001b[0mtest\u001b[0m\u001b[0;34m\u001b[0m\u001b[0;34m\u001b[0m\u001b[0m\n",
      "\u001b[0;32m<ipython-input-35-be9c123c3d24>\u001b[0m in \u001b[0;36mhome\u001b[0;34m()\u001b[0m\n\u001b[1;32m      2\u001b[0m     \u001b[0mdata\u001b[0m \u001b[0;34m=\u001b[0m \u001b[0mmongo\u001b[0m\u001b[0;34m.\u001b[0m\u001b[0mdb\u001b[0m\u001b[0;34m.\u001b[0m\u001b[0mcollection\u001b[0m\u001b[0;34m.\u001b[0m\u001b[0mfind_one\u001b[0m\u001b[0;34m(\u001b[0m\u001b[0;34m)\u001b[0m\u001b[0;34m\u001b[0m\u001b[0;34m\u001b[0m\u001b[0m\n\u001b[1;32m      3\u001b[0m     \u001b[0;31m#return render_template(\"index.html\", data=data)\u001b[0m\u001b[0;34m\u001b[0m\u001b[0;34m\u001b[0m\u001b[0;34m\u001b[0m\u001b[0m\n\u001b[0;32m----> 4\u001b[0;31m     \u001b[0;32mreturn\u001b[0m \u001b[0mdata\u001b[0m\u001b[0;34m.\u001b[0m\u001b[0mmars_facts\u001b[0m\u001b[0;34m.\u001b[0m\u001b[0mtable_img\u001b[0m\u001b[0;34m\u001b[0m\u001b[0;34m\u001b[0m\u001b[0m\n\u001b[0m\u001b[1;32m      5\u001b[0m \u001b[0;34m\u001b[0m\u001b[0m\n\u001b[1;32m      6\u001b[0m \u001b[0mtest\u001b[0m \u001b[0;34m=\u001b[0m \u001b[0mhome\u001b[0m\u001b[0;34m(\u001b[0m\u001b[0;34m)\u001b[0m\u001b[0;34m\u001b[0m\u001b[0;34m\u001b[0m\u001b[0m\n",
      "\u001b[0;31mAttributeError\u001b[0m: 'dict' object has no attribute 'mars_facts'"
     ]
    }
   ],
   "source": [
    "def home():\n",
    "    data = mongo.db.collection.find_one()\n",
    "    #return render_template(\"index.html\", data=data)\n",
    "    return data.mars_facts.table_img\n",
    "\n",
    "test = home()\n",
    "test"
   ]
  },
  {
   "cell_type": "code",
   "execution_count": 24,
   "metadata": {},
   "outputs": [
    {
     "data": {
      "text/plain": [
       "\"For the first time, NASA's Mars Odyssey orbiter has caught the Martian moon Phobos during a full moon phase. Each color in this new image represents a temperature range detected by Odyssey's infrared camera.\""
      ]
     },
     "execution_count": 24,
     "metadata": {},
     "output_type": "execute_result"
    }
   ],
   "source": [
    "latest_paragraph"
   ]
  },
  {
   "cell_type": "code",
   "execution_count": 25,
   "metadata": {},
   "outputs": [
    {
     "ename": "NameError",
     "evalue": "name 'data' is not defined",
     "output_type": "error",
     "traceback": [
      "\u001b[0;31m---------------------------------------------------------------------------\u001b[0m",
      "\u001b[0;31mNameError\u001b[0m                                 Traceback (most recent call last)",
      "\u001b[0;32m<ipython-input-25-0d3a995f50f5>\u001b[0m in \u001b[0;36m<module>\u001b[0;34m\u001b[0m\n\u001b[0;32m----> 1\u001b[0;31m \u001b[0;34m{\u001b[0m\u001b[0;34m{\u001b[0m \u001b[0mdata\u001b[0m\u001b[0;34m.\u001b[0m\u001b[0mmars_facts\u001b[0m\u001b[0;34m.\u001b[0m\u001b[0mtable_image\u001b[0m \u001b[0;34m}\u001b[0m\u001b[0;34m}\u001b[0m\u001b[0;34m\u001b[0m\u001b[0;34m\u001b[0m\u001b[0m\n\u001b[0m",
      "\u001b[0;31mNameError\u001b[0m: name 'data' is not defined"
     ]
    }
   ],
   "source": []
  },
  {
   "cell_type": "code",
   "execution_count": 38,
   "metadata": {},
   "outputs": [
    {
     "ename": "NameError",
     "evalue": "name 'outputfilepath' is not defined",
     "output_type": "error",
     "traceback": [
      "\u001b[0;31m---------------------------------------------------------------------------\u001b[0m",
      "\u001b[0;31mNameError\u001b[0m                                 Traceback (most recent call last)",
      "\u001b[0;32m<ipython-input-38-128782cda35d>\u001b[0m in \u001b[0;36m<module>\u001b[0;34m\u001b[0m\n\u001b[0;32m----> 1\u001b[0;31m \u001b[0mprint\u001b[0m\u001b[0;34m(\u001b[0m\u001b[0;34mf'cp'\u001b[0m\u001b[0;34m+\u001b[0m\u001b[0;34m' '\u001b[0m\u001b[0;34m+\u001b[0m\u001b[0;34m'-r'\u001b[0m\u001b[0;34m+\u001b[0m\u001b[0;34m' '\u001b[0m\u001b[0;34m+\u001b[0m\u001b[0;34m{\u001b[0m\u001b[0moutputfilepath\u001b[0m\u001b[0;34m}\u001b[0m\u001b[0;34m+\u001b[0m\u001b[0;34m' '\u001b[0m\u001b[0;34m+\u001b[0m\u001b[0;34m{\u001b[0m\u001b[0mcwd\u001b[0m\u001b[0;34m}\u001b[0m\u001b[0;34m+\u001b[0m\u001b[0;34m'/static'\u001b[0m\u001b[0;34m+\u001b[0m\u001b[0;34m{\u001b[0m\u001b[0moutputfile\u001b[0m\u001b[0;34m}\u001b[0m\u001b[0;34m)\u001b[0m\u001b[0;34m\u001b[0m\u001b[0;34m\u001b[0m\u001b[0m\n\u001b[0m",
      "\u001b[0;31mNameError\u001b[0m: name 'outputfilepath' is not defined"
     ]
    }
   ],
   "source": [
    "print(f'cp'+' '+'-r'+' '+{outputfilepath}+' '+{cwd}+'/static'+{outputfile})"
   ]
  },
  {
   "cell_type": "code",
   "execution_count": null,
   "metadata": {},
   "outputs": [],
   "source": []
  }
 ],
 "metadata": {
  "kernelspec": {
   "display_name": "Python 3",
   "language": "python",
   "name": "python3"
  },
  "language_info": {
   "codemirror_mode": {
    "name": "ipython",
    "version": 3
   },
   "file_extension": ".py",
   "mimetype": "text/x-python",
   "name": "python",
   "nbconvert_exporter": "python",
   "pygments_lexer": "ipython3",
   "version": "3.7.1"
  }
 },
 "nbformat": 4,
 "nbformat_minor": 2
}
