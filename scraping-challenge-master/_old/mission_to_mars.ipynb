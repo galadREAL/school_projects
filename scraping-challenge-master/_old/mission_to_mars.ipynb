{
 "cells": [
  {
   "cell_type": "code",
   "execution_count": 1,
   "metadata": {},
   "outputs": [],
   "source": [
    "from splinter import Browser\n",
    "from bs4 import BeautifulSoup as bs"
   ]
  },
  {
   "cell_type": "code",
   "execution_count": 2,
   "metadata": {},
   "outputs": [],
   "source": [
    "# Links up chrome to this notebook\n",
    "executable_path = {'executable_path': '/usr/local/bin/chromedriver'}\n",
    "browser = Browser('chrome', **executable_path, headless=False)"
   ]
  },
  {
   "cell_type": "code",
   "execution_count": 3,
   "metadata": {},
   "outputs": [],
   "source": [
    "########## Scrape the NASA Mars News Site and collect the latest News Title and Paragraph Text.\n",
    "\n",
    "# Provided url is assigned and a browser is sent to visit the page\n",
    "url = 'https://mars.nasa.gov/news/'\n",
    "browser.visit(url)"
   ]
  },
  {
   "cell_type": "code",
   "execution_count": 4,
   "metadata": {},
   "outputs": [],
   "source": [
    "# Stick the url's html into a soup object to parse\n",
    "html = browser.html\n",
    "soup = bs(html, 'html.parser')"
   ]
  },
  {
   "cell_type": "code",
   "execution_count": 5,
   "metadata": {},
   "outputs": [
    {
     "name": "stdout",
     "output_type": "stream",
     "text": [
      "Why This Martian Full Moon Looks Like Candy\n"
     ]
    }
   ],
   "source": [
    "########## Assign the text to variables that you can reference later.\n",
    "\n",
    "# Gather up all the content_title and assign the [0] position one to latest_title\n",
    "titles = soup.find_all('div', class_='content_title')\n",
    "latest_title = titles[0].text\n",
    "print(latest_title)"
   ]
  },
  {
   "cell_type": "code",
   "execution_count": 6,
   "metadata": {},
   "outputs": [
    {
     "name": "stdout",
     "output_type": "stream",
     "text": [
      "For the first time, NASA's Mars Odyssey orbiter has caught the Martian moon Phobos during a full moon phase. Each color in this new image represents a temperature range detected by Odyssey's infrared camera.\n"
     ]
    }
   ],
   "source": [
    "# Gather up all the article_teaser_body and assign the [0] position one to latest_paragraph\n",
    "paragraphs = soup.find_all('div', class_='article_teaser_body')\n",
    "latest_paragraph = paragraphs[0].text\n",
    "print(latest_paragraph)"
   ]
  },
  {
   "cell_type": "code",
   "execution_count": 7,
   "metadata": {},
   "outputs": [],
   "source": [
    "########## Visit the url for JPL Featured Space Image\n",
    "\n",
    "url2 = 'https://www.jpl.nasa.gov/spaceimages/?search=&category=Mars'\n",
    "browser.visit(url2)"
   ]
  },
  {
   "cell_type": "code",
   "execution_count": 8,
   "metadata": {},
   "outputs": [],
   "source": [
    "########## Use splinter to navigate the site and find the image url for the current \n",
    "########## Featured Mars Image and assign the url string to a variable called \n",
    "########## featured_image_url.\n",
    "\n",
    "##########  Make sure to find the image url to the full size .jpg image.\n",
    "\n",
    "##########  Make sure to save a complete url string for this image.\n",
    "\n",
    "# Read in current page as soup\n",
    "html = browser.html\n",
    "soup = bs(html, 'html.parser')\n",
    "\n",
    "# Click the full image link\n",
    "browser.click_link_by_partial_text('FULL IMAGE')"
   ]
  },
  {
   "cell_type": "code",
   "execution_count": 10,
   "metadata": {},
   "outputs": [
    {
     "name": "stdout",
     "output_type": "stream",
     "text": [
      "/spaceimages/images/mediumsize/PIA17661_ip.jpg\n"
     ]
    }
   ],
   "source": [
    "# Read in current page as soup\n",
    "html = browser.html\n",
    "soup = bs(html, 'html.parser')\n",
    "\n",
    "# Gather up the fancy-box image data\n",
    "image_data = soup.find('img', class_='fancybox-image')\n",
    "\n",
    "# Assign the src field ending url\n",
    "featured_end = image_data['src']\n",
    "print(featured_end)"
   ]
  },
  {
   "cell_type": "code",
   "execution_count": 11,
   "metadata": {},
   "outputs": [
    {
     "name": "stdout",
     "output_type": "stream",
     "text": [
      "https://www.jpl.nasa.gov/spaceimages/images/mediumsize/PIA17661_ip.jpg\n"
     ]
    }
   ],
   "source": [
    "# Assign the base starting url\n",
    "featured_base = 'https://www.jpl.nasa.gov'\n",
    "\n",
    "# Assign the full url with the base and the end\n",
    "featured_image_url = featured_base + featured_end\n",
    "print(featured_image_url)"
   ]
  },
  {
   "cell_type": "code",
   "execution_count": 12,
   "metadata": {},
   "outputs": [],
   "source": [
    "########## Visit the Mars Weather twitter account here and scrape the latest Mars weather \n",
    "########## tweet from the page. Save the tweet text for the weather report as a variable \n",
    "########## called mars_weather.\n",
    "\n",
    "url3 = 'https://twitter.com/marswxreport?lang=en'\n",
    "browser.visit(url3)"
   ]
  },
  {
   "cell_type": "code",
   "execution_count": 13,
   "metadata": {},
   "outputs": [],
   "source": [
    "# Read in current page as soup\n",
    "html = browser.html\n",
    "soup = bs(html, 'html.parser')"
   ]
  },
  {
   "cell_type": "code",
   "execution_count": 14,
   "metadata": {},
   "outputs": [
    {
     "name": "stdout",
     "output_type": "stream",
     "text": [
      "InSight sol 162 (2019-05-12) low -100.2ºC (-148.3ºF) high -20.3ºC (-4.5ºF)\n",
      "winds from the SW at 4.5 m/s (10.1 mph) gusting to 14.3 m/s (32.0 mph)\n",
      "pressure at 7.50 hPa\n"
     ]
    }
   ],
   "source": [
    "# Gather up tweet data\n",
    "tweet_data = soup.find('div', class_='js-tweet-text-container')\n",
    "\n",
    "# This takes off the tweet's picture link\n",
    "mars_weather = tweet_data.text[1:-27]\n",
    "print(mars_weather)"
   ]
  },
  {
   "cell_type": "code",
   "execution_count": 15,
   "metadata": {},
   "outputs": [],
   "source": [
    "########## Visit the Mars Facts webpage here and use Pandas to scrape the table containing \n",
    "########## facts about the planet including Diameter, Mass, etc.\n",
    "\n",
    "url4 = 'http://space-facts.com/mars/'\n",
    "browser.visit(url4)"
   ]
  },
  {
   "cell_type": "code",
   "execution_count": 17,
   "metadata": {},
   "outputs": [],
   "source": [
    "# Read in current page as soup\n",
    "html = browser.html\n",
    "soup = bs(html, 'html.parser')"
   ]
  },
  {
   "cell_type": "code",
   "execution_count": 18,
   "metadata": {},
   "outputs": [
    {
     "data": {
      "text/html": [
       "<div>\n",
       "<style scoped>\n",
       "    .dataframe tbody tr th:only-of-type {\n",
       "        vertical-align: middle;\n",
       "    }\n",
       "\n",
       "    .dataframe tbody tr th {\n",
       "        vertical-align: top;\n",
       "    }\n",
       "\n",
       "    .dataframe thead th {\n",
       "        text-align: right;\n",
       "    }\n",
       "</style>\n",
       "<table border=\"1\" class=\"dataframe\">\n",
       "  <thead>\n",
       "    <tr style=\"text-align: right;\">\n",
       "      <th></th>\n",
       "      <th>0</th>\n",
       "      <th>1</th>\n",
       "    </tr>\n",
       "  </thead>\n",
       "  <tbody>\n",
       "    <tr>\n",
       "      <th>0</th>\n",
       "      <td>Equatorial Diameter:</td>\n",
       "      <td>6,792 km</td>\n",
       "    </tr>\n",
       "    <tr>\n",
       "      <th>1</th>\n",
       "      <td>Polar Diameter:</td>\n",
       "      <td>6,752 km</td>\n",
       "    </tr>\n",
       "    <tr>\n",
       "      <th>2</th>\n",
       "      <td>Mass:</td>\n",
       "      <td>6.42 x 10^23 kg (10.7% Earth)</td>\n",
       "    </tr>\n",
       "    <tr>\n",
       "      <th>3</th>\n",
       "      <td>Moons:</td>\n",
       "      <td>2 (Phobos &amp; Deimos)</td>\n",
       "    </tr>\n",
       "    <tr>\n",
       "      <th>4</th>\n",
       "      <td>Orbit Distance:</td>\n",
       "      <td>227,943,824 km (1.52 AU)</td>\n",
       "    </tr>\n",
       "    <tr>\n",
       "      <th>5</th>\n",
       "      <td>Orbit Period:</td>\n",
       "      <td>687 days (1.9 years)</td>\n",
       "    </tr>\n",
       "    <tr>\n",
       "      <th>6</th>\n",
       "      <td>Surface Temperature:</td>\n",
       "      <td>-153 to 20 °C</td>\n",
       "    </tr>\n",
       "    <tr>\n",
       "      <th>7</th>\n",
       "      <td>First Record:</td>\n",
       "      <td>2nd millennium BC</td>\n",
       "    </tr>\n",
       "    <tr>\n",
       "      <th>8</th>\n",
       "      <td>Recorded By:</td>\n",
       "      <td>Egyptian astronomers</td>\n",
       "    </tr>\n",
       "  </tbody>\n",
       "</table>\n",
       "</div>"
      ],
      "text/plain": [
       "                      0                              1\n",
       "0  Equatorial Diameter:                       6,792 km\n",
       "1       Polar Diameter:                       6,752 km\n",
       "2                 Mass:  6.42 x 10^23 kg (10.7% Earth)\n",
       "3                Moons:            2 (Phobos & Deimos)\n",
       "4       Orbit Distance:       227,943,824 km (1.52 AU)\n",
       "5         Orbit Period:           687 days (1.9 years)\n",
       "6  Surface Temperature:                  -153 to 20 °C\n",
       "7         First Record:              2nd millennium BC\n",
       "8          Recorded By:           Egyptian astronomers"
      ]
     },
     "execution_count": 18,
     "metadata": {},
     "output_type": "execute_result"
    }
   ],
   "source": [
    "########## Use Pandas to convert the data to a HTML table string.\n",
    "\n",
    "import pandas as pd\n",
    "#table_data = soup.find_all('table', id=\"tablepress-mars\")\n",
    "#table_data\n",
    "mars_table = pd.read_html(html)\n",
    "mars_table = mars_table[(len(mars_table) - 1)]\n",
    "\n",
    "#mars_table_html_string = mars_table.to_html()\n",
    "#print(mars_table_html_string)\n",
    "\n",
    "mars_table"
   ]
  },
  {
   "cell_type": "code",
   "execution_count": null,
   "metadata": {},
   "outputs": [],
   "source": [
    "########## Visit the USGS Astrogeology site here to obtain high resolution images for each of \n",
    "########## Mar's hemispheres.\n",
    "\n",
    "url5 = 'https://astrogeology.usgs.gov/search/results?q=hemisphere+enhanced&k1=target&v1=Mars'\n",
    "browser.visit(url5)"
   ]
  },
  {
   "cell_type": "code",
   "execution_count": null,
   "metadata": {},
   "outputs": [],
   "source": [
    "# Read in current page as soup\n",
    "html = browser.html\n",
    "soup = bs(html, 'html.parser')"
   ]
  },
  {
   "cell_type": "code",
   "execution_count": null,
   "metadata": {},
   "outputs": [],
   "source": [
    "########## You will need to click each of the links to the hemispheres in order to find the \n",
    "########## image url to the full resolution image.\n",
    "\n",
    "links = soup.find_all('a', class_='itemLink')\n",
    "\n",
    "links_list = []\n",
    "\n",
    "for link in links:\n",
    "    href = link['href']\n",
    "    if href not in links_list:\n",
    "        links_list.append(href)\n",
    "        \n",
    "cerberus_end = links_list[0]\n",
    "schiaparelli_end = links_list[1]\n",
    "syrtis_major_end = links_list[2]\n",
    "valles_marineris_end = links_list[3]\n",
    "\n",
    "links_start = 'https://astrogeology.usgs.gov'\n",
    "\n",
    "cerberus_full = links_start + cerberus_end\n",
    "schiaperelli_full = links_start + schiaparelli_end\n",
    "syrtis_major_full = links_start + syrtis_major_end\n",
    "valles_marineris_full = links_start + valles_marineris_end"
   ]
  },
  {
   "cell_type": "code",
   "execution_count": null,
   "metadata": {},
   "outputs": [],
   "source": [
    "########## Save both the image url string for the full resolution hemisphere image, and the \n",
    "########## Hemisphere title containing the hemisphere name. \n",
    "\n",
    "browser.visit(cerberus_full)\n",
    "\n",
    "# Read in current page as soup\n",
    "html = browser.html\n",
    "soup = bs(html, 'html.parser')"
   ]
  },
  {
   "cell_type": "code",
   "execution_count": null,
   "metadata": {},
   "outputs": [],
   "source": [
    "cerberus_pic_data = soup.find_all('img', class_=\"wide-image\")\n",
    "cerberus_pic_end = cerberus_pic_data[0]['src']\n",
    "\n",
    "cerberus_picture_full = links_start + cerberus_pic_end\n",
    "print(cerberus_picture_full)\n",
    "\n",
    "cerberus_title_data = soup.find('h2', class_='title')\n",
    "cerberus_title_full = cerberus_title_data.text\n",
    "print(cerberus_title_full)"
   ]
  },
  {
   "cell_type": "code",
   "execution_count": null,
   "metadata": {},
   "outputs": [],
   "source": [
    "browser.visit(schiaperelli_full)\n",
    "\n",
    "# Read in current page as soup\n",
    "html = browser.html\n",
    "soup = bs(html, 'html.parser')"
   ]
  },
  {
   "cell_type": "code",
   "execution_count": null,
   "metadata": {},
   "outputs": [],
   "source": [
    "schiaperelli_pic_data = soup.find_all('img', class_=\"wide-image\")\n",
    "schiaperelli_pic_end = schiaperelli_pic_data[0]['src']\n",
    "\n",
    "schiaperelli_picture_full = links_start + schiaperelli_pic_end\n",
    "print(schiaperelli_picture_full)\n",
    "\n",
    "schiaperelli_title_data = soup.find('h2', class_='title')\n",
    "schiaperelli_title_full = schiaperelli_title_data.text\n",
    "print(schiaperelli_title_full)"
   ]
  },
  {
   "cell_type": "code",
   "execution_count": null,
   "metadata": {},
   "outputs": [],
   "source": [
    "browser.visit(syrtis_major_full)\n",
    "\n",
    "# Read in current page as soup\n",
    "html = browser.html\n",
    "soup = bs(html, 'html.parser')"
   ]
  },
  {
   "cell_type": "code",
   "execution_count": null,
   "metadata": {},
   "outputs": [],
   "source": [
    "syrtis_major_pic_data = soup.find_all('img', class_=\"wide-image\")\n",
    "syrtis_major_pic_end = syrtis_major_pic_data[0]['src']\n",
    "\n",
    "syrtis_major_picture_full = links_start + syrtis_major_pic_end\n",
    "print(syrtis_major_picture_full)\n",
    "\n",
    "syrtis_major_title_data = soup.find('h2', class_='title')\n",
    "syrtis_major_title_full = syrtis_major_title_data.text\n",
    "print(syrtis_major_title_full)"
   ]
  },
  {
   "cell_type": "code",
   "execution_count": null,
   "metadata": {},
   "outputs": [],
   "source": [
    "browser.visit(valles_marineris_full)\n",
    "\n",
    "# Read in current page as soup\n",
    "html = browser.html\n",
    "soup = bs(html, 'html.parser')"
   ]
  },
  {
   "cell_type": "code",
   "execution_count": null,
   "metadata": {},
   "outputs": [],
   "source": [
    "valles_marineris_pic_data = soup.find_all('img', class_=\"wide-image\")\n",
    "valles_marineris_pic_end = valles_marineris_pic_data[0]['src']\n",
    "\n",
    "valles_marineris_picture_full = links_start + valles_marineris_pic_end\n",
    "print(valles_marineris_picture_full)\n",
    "\n",
    "valles_marineris_title_data = soup.find('h2', class_='title')\n",
    "valles_marineris_title_full = valles_marineris_title_data.text\n",
    "print(valles_marineris_title_full)"
   ]
  },
  {
   "cell_type": "code",
   "execution_count": null,
   "metadata": {},
   "outputs": [],
   "source": [
    "########## Use a Python dictionary to store the data using the keys img_url and title.\n",
    "\n",
    "cerberus_dict = {'img_url': cerberus_picture_full,\n",
    "                'title': cerberus_title_full}\n",
    "schiaperelli_dict = {'img_url': schiaperelli_picture_full,\n",
    "                'title': schiaperelli_title_full}\n",
    "syrtis_major_dict = {'img_url': syrtis_major_picture_full,\n",
    "                'title': syrtis_major_title_full}\n",
    "valles_marineris_dict = {'img_url': valles_marineris_picture_full,\n",
    "                'title': valles_marineris_title_full}"
   ]
  },
  {
   "cell_type": "code",
   "execution_count": null,
   "metadata": {},
   "outputs": [],
   "source": [
    "########## Append the dictionary with the image url string and the hemisphere title to a list. \n",
    "########## This list will contain one dictionary for each hemisphere.\n",
    "\n",
    "mars_hemisphere_list = []\n",
    "mars_hemisphere_list.append(cerberus_dict)\n",
    "mars_hemisphere_list.append(schiaperelli_dict)\n",
    "mars_hemisphere_list.append(syrtis_major_dict)\n",
    "mars_hemisphere_list.append(valles_marineris_dict)\n",
    "mars_hemisphere_list"
   ]
  },
  {
   "cell_type": "code",
   "execution_count": null,
   "metadata": {},
   "outputs": [],
   "source": [
    "def Scrape():\n",
    "        latest_mars_news = {'title': latest_title,\n",
    "                            'paragraph': latest_paragraph}\n",
    "        one_dict_to_rule_them_all = {'hemisphere_titles_and_images': mars_hemisphere_list,\n",
    "                                 'latest_mars_news': latest_mars_news,\n",
    "                                 'featured_image_url': featured_image_url,\n",
    "                                 'latest_mars_weather': mars_weather,\n",
    "                                 'mars_facts_table_html': mars_table_html_string}\n",
    "        return one_dict_to_rule_them_all"
   ]
  },
  {
   "cell_type": "code",
   "execution_count": null,
   "metadata": {},
   "outputs": [],
   "source": [
    "one_dict_to_rule_them_all['hemisphere_titles_and_images']['title' == 'Cerberus Hemisphere Enchanced']"
   ]
  },
  {
   "cell_type": "code",
   "execution_count": null,
   "metadata": {},
   "outputs": [],
   "source": [
    "Scrape()"
   ]
  },
  {
   "cell_type": "code",
   "execution_count": null,
   "metadata": {},
   "outputs": [],
   "source": []
  }
 ],
 "metadata": {
  "kernelspec": {
   "display_name": "Python 3",
   "language": "python",
   "name": "python3"
  },
  "language_info": {
   "codemirror_mode": {
    "name": "ipython",
    "version": 3
   },
   "file_extension": ".py",
   "mimetype": "text/x-python",
   "name": "python",
   "nbconvert_exporter": "python",
   "pygments_lexer": "ipython3",
   "version": "3.7.1"
  }
 },
 "nbformat": 4,
 "nbformat_minor": 2
}
